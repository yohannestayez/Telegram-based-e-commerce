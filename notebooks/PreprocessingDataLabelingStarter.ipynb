{
 "cells": [
  {
   "cell_type": "code",
   "execution_count": null,
   "metadata": {},
   "outputs": [],
   "source": [
    "import pandas as pd\n",
    "from transformers import AutoTokenizer, AutoModelForTokenClassification, pipeline\n",
    "import re\n",
    "import emoji"
   ]
  },
  {
   "cell_type": "code",
   "execution_count": 31,
   "metadata": {},
   "outputs": [
    {
     "name": "stderr",
     "output_type": "stream",
     "text": [
      "c:\\Users\\Administrator\\miniconda3\\envs\\condaenv\\lib\\site-packages\\transformers\\tokenization_utils_base.py:1617: FutureWarning: `clean_up_tokenization_spaces` was not set. It will be set to `True` by default. This behavior will be deprecated in transformers v4.45, and will be then set to `False` by default. For more details check this issue: https://github.com/huggingface/transformers/issues/31884\n",
      "  warnings.warn(\n"
     ]
    },
    {
     "name": "stdout",
     "output_type": "stream",
     "text": [
      "Labeled data saved to C:/Users/Administrator/Documents/kifiya/Week_5/labeled_data_conll.txt\n"
     ]
    }
   ],
   "source": [
    "\n",
    "# Load the dataset\n",
    "df = pd.read_csv('C:/Users/Administrator/Documents/kifiya/Week_5/telegram_data.csv')\n",
    "\n",
    "df = df.dropna(subset =['Message'])\n",
    "# Load the tokenizer and model for NER\n",
    "tokenizer = AutoTokenizer.from_pretrained(\"masakhane/afroxlmr-large-ner-masakhaner-1.0_2.0\")\n",
    "model = AutoModelForTokenClassification.from_pretrained(\"masakhane/afroxlmr-large-ner-masakhaner-1.0_2.0\")\n",
    "\n",
    "# Set up NER pipeline\n",
    "nlp = pipeline(\"ner\", model=model, tokenizer=tokenizer)\n",
    "\n",
    "# Function to clean the text (remove emojis, symbols, etc.)\n",
    "def remove_emoji(text):\n",
    "    if isinstance(text, str):\n",
    "        return emoji.replace_emoji(text, replace='')\n",
    "    return text\n",
    "\n",
    "def remove_symbols(text):\n",
    "    if isinstance(text, str):\n",
    "        return re.sub(r'[^A-Za-z0-9ሀ-ፐ\\s]+', '', text)\n",
    "    return text\n",
    "\n",
    "# Apply cleaning functions to 'Message' column\n",
    "df['Message'] = df['Message'].apply(remove_emoji).apply(remove_symbols)\n",
    "\n",
    "\n",
    "# Function to map NER model results to CoNLL format labels\n",
    "def map_ner_to_conll(ner_results, text):\n",
    "    # Split text into tokens\n",
    "    tokens = text.split()\n",
    "    \n",
    "    # Initialize list of labels for each token\n",
    "    labels = ['O'] * len(tokens)\n",
    "    \n",
    "    # Iterate through NER results and apply labels to tokens\n",
    "    for entity in ner_results:\n",
    "        word = entity['word'].replace('##', '')  # Clean subword tokenization artifacts\n",
    "        entity_type = entity['entity']  # E.g., 'B-LOC', 'B-PER', etc.\n",
    "        entity_score = entity['score']  # Score for confidence\n",
    "        \n",
    "        # Apply specific entity mappings for task\n",
    "        if entity_type == 'B-LOC':\n",
    "            label = 'B-LOC'\n",
    "        elif entity_type == 'I-LOC':\n",
    "            label = 'I-LOC'\n",
    "        elif entity_type == 'B-ORG':  # Assuming 'ORG' is related to Product in your case\n",
    "            label = 'B-Product'\n",
    "        elif entity_type == 'I-ORG':\n",
    "            label = 'I-Product'\n",
    "        elif entity_type == 'B-MISC':  # Assuming Misc could contain prices\n",
    "            label = 'B-PRICE'\n",
    "        elif entity_type == 'I-MISC':\n",
    "            label = 'I-PRICE'\n",
    "        else:\n",
    "            label = 'O'\n",
    "        \n",
    "        # Align the NER result with the tokens\n",
    "        for i, token in enumerate(tokens):\n",
    "            if word in token:\n",
    "                labels[i] = label\n",
    "\n",
    "    return tokens, labels\n",
    "\n",
    "# Function to write labeled data to CoNLL format\n",
    "def write_conll_format(df, output_file, nlp_pipeline):\n",
    "    with open(output_file, 'w', encoding='utf-8') as f:\n",
    "        for message in df['Message'].head(50):  # Limit to 50 messages for task\n",
    "            if pd.isna(message):\n",
    "                continue\n",
    "            \n",
    "            # Apply NER model to message\n",
    "            ner_results = nlp_pipeline(message)\n",
    "            \n",
    "            # Map the NER results to CoNLL format tokens and labels\n",
    "            tokens, labels = map_ner_to_conll(ner_results, message)\n",
    "            \n",
    "            # Write the tokens and their labels to the file\n",
    "            for token, label in zip(tokens, labels):\n",
    "                f.write(f\"{token} {label}\\n\")\n",
    "            f.write(\"\\n\")  # Blank line between messages\n",
    "\n",
    "# Output file path for labeled data in CoNLL format\n",
    "output_file = 'C:/Users/Administrator/Documents/kifiya/Week_5/labeled_data_conll.txt'\n",
    "\n",
    "# Write the labeled data to CoNLL format\n",
    "write_conll_format(df, output_file, nlp)\n",
    "\n",
    "print(f\"Labeled data saved to {output_file}\")\n"
   ]
  }
 ],
 "metadata": {
  "kernelspec": {
   "display_name": "condaenv",
   "language": "python",
   "name": "python3"
  },
  "language_info": {
   "codemirror_mode": {
    "name": "ipython",
    "version": 3
   },
   "file_extension": ".py",
   "mimetype": "text/x-python",
   "name": "python",
   "nbconvert_exporter": "python",
   "pygments_lexer": "ipython3",
   "version": "3.9.15"
  }
 },
 "nbformat": 4,
 "nbformat_minor": 2
}
