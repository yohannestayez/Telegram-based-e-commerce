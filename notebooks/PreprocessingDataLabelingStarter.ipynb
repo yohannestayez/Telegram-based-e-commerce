{
 "cells": [
  {
   "cell_type": "code",
   "execution_count": 64,
   "metadata": {},
   "outputs": [],
   "source": [
    "import pandas as pd\n",
    "from transformers import AutoTokenizer, AutoModelForTokenClassification, pipeline\n",
    "import re\n",
    "import emoji"
   ]
  },
  {
   "cell_type": "markdown",
   "metadata": {},
   "source": [
    "## Load the dataset"
   ]
  },
  {
   "cell_type": "code",
   "execution_count": 65,
   "metadata": {},
   "outputs": [
    {
     "data": {
      "text/html": [
       "<div>\n",
       "<style scoped>\n",
       "    .dataframe tbody tr th:only-of-type {\n",
       "        vertical-align: middle;\n",
       "    }\n",
       "\n",
       "    .dataframe tbody tr th {\n",
       "        vertical-align: top;\n",
       "    }\n",
       "\n",
       "    .dataframe thead th {\n",
       "        text-align: right;\n",
       "    }\n",
       "</style>\n",
       "<table border=\"1\" class=\"dataframe\">\n",
       "  <thead>\n",
       "    <tr style=\"text-align: right;\">\n",
       "      <th></th>\n",
       "      <th>Channel Title</th>\n",
       "      <th>Channel Username</th>\n",
       "      <th>ID</th>\n",
       "      <th>Message</th>\n",
       "      <th>Date</th>\n",
       "      <th>Media Path</th>\n",
       "    </tr>\n",
       "  </thead>\n",
       "  <tbody>\n",
       "    <tr>\n",
       "      <th>2</th>\n",
       "      <td>Fashion tera</td>\n",
       "      <td>@Fashiontera</td>\n",
       "      <td>3964</td>\n",
       "      <td>〰️〰️〰️〰️〰️ \\nCLASICO\\n🔸🔸🔸🔸🔸🔸\\nPrice  2200( No ...</td>\n",
       "      <td>2024-09-24 14:34:31+00:00</td>\n",
       "      <td>photos\\@Fashiontera_3964.jpg</td>\n",
       "    </tr>\n",
       "    <tr>\n",
       "      <th>4</th>\n",
       "      <td>Fashion tera</td>\n",
       "      <td>@Fashiontera</td>\n",
       "      <td>3962</td>\n",
       "      <td>〰️〰️〰️〰️〰️〰️〰️\\nPuma \\nMade in Vietnam \\n🔸🔸🔸🔸🔸...</td>\n",
       "      <td>2024-09-18 15:26:06+00:00</td>\n",
       "      <td>photos\\@Fashiontera_3962.jpg</td>\n",
       "    </tr>\n",
       "    <tr>\n",
       "      <th>8</th>\n",
       "      <td>Fashion tera</td>\n",
       "      <td>@Fashiontera</td>\n",
       "      <td>3950</td>\n",
       "      <td>New year Discount \\n🌼🌼🌼🌼🌼🌼🌼🌼🌼\\n〰️〰️〰️〰️〰️ \\n🔸🔸...</td>\n",
       "      <td>2024-09-08 16:08:15+00:00</td>\n",
       "      <td>photos\\@Fashiontera_3950.jpg</td>\n",
       "    </tr>\n",
       "    <tr>\n",
       "      <th>19</th>\n",
       "      <td>Fashion tera</td>\n",
       "      <td>@Fashiontera</td>\n",
       "      <td>3939</td>\n",
       "      <td>〰️〰️〰️〰️〰️ \\nSkechers \\nMade in Vietnam \\n🔸🔸🔸🔸...</td>\n",
       "      <td>2024-09-08 15:45:52+00:00</td>\n",
       "      <td>photos\\@Fashiontera_3939.jpg</td>\n",
       "    </tr>\n",
       "    <tr>\n",
       "      <th>31</th>\n",
       "      <td>Fashion tera</td>\n",
       "      <td>@Fashiontera</td>\n",
       "      <td>3915</td>\n",
       "      <td>〰️〰️〰️〰️〰️〰️〰️\\nReebok \\nMade in Vietnam \\n🔸🔸🔸...</td>\n",
       "      <td>2024-09-01 19:38:25+00:00</td>\n",
       "      <td>photos\\@Fashiontera_3915.jpg</td>\n",
       "    </tr>\n",
       "  </tbody>\n",
       "</table>\n",
       "</div>"
      ],
      "text/plain": [
       "   Channel Title Channel Username    ID  \\\n",
       "2   Fashion tera     @Fashiontera  3964   \n",
       "4   Fashion tera     @Fashiontera  3962   \n",
       "8   Fashion tera     @Fashiontera  3950   \n",
       "19  Fashion tera     @Fashiontera  3939   \n",
       "31  Fashion tera     @Fashiontera  3915   \n",
       "\n",
       "                                              Message  \\\n",
       "2   〰️〰️〰️〰️〰️ \\nCLASICO\\n🔸🔸🔸🔸🔸🔸\\nPrice  2200( No ...   \n",
       "4   〰️〰️〰️〰️〰️〰️〰️\\nPuma \\nMade in Vietnam \\n🔸🔸🔸🔸🔸...   \n",
       "8   New year Discount \\n🌼🌼🌼🌼🌼🌼🌼🌼🌼\\n〰️〰️〰️〰️〰️ \\n🔸🔸...   \n",
       "19  〰️〰️〰️〰️〰️ \\nSkechers \\nMade in Vietnam \\n🔸🔸🔸🔸...   \n",
       "31  〰️〰️〰️〰️〰️〰️〰️\\nReebok \\nMade in Vietnam \\n🔸🔸🔸...   \n",
       "\n",
       "                         Date                    Media Path  \n",
       "2   2024-09-24 14:34:31+00:00  photos\\@Fashiontera_3964.jpg  \n",
       "4   2024-09-18 15:26:06+00:00  photos\\@Fashiontera_3962.jpg  \n",
       "8   2024-09-08 16:08:15+00:00  photos\\@Fashiontera_3950.jpg  \n",
       "19  2024-09-08 15:45:52+00:00  photos\\@Fashiontera_3939.jpg  \n",
       "31  2024-09-01 19:38:25+00:00  photos\\@Fashiontera_3915.jpg  "
      ]
     },
     "metadata": {},
     "output_type": "display_data"
    }
   ],
   "source": [
    "# Load the dataset\n",
    "df = pd.read_csv('C:/Users/Administrator/Documents/kifiya/Week_5/telegram_data.csv')\n",
    "\n",
    "df = df.dropna(subset=['Message'])\n",
    "display(df.head())"
   ]
  },
  {
   "cell_type": "markdown",
   "metadata": {},
   "source": [
    "## Load the tokenizer and model for NER"
   ]
  },
  {
   "cell_type": "code",
   "execution_count": 66,
   "metadata": {},
   "outputs": [
    {
     "name": "stderr",
     "output_type": "stream",
     "text": [
      "c:\\Users\\Administrator\\miniconda3\\envs\\condaenv\\lib\\site-packages\\transformers\\tokenization_utils_base.py:1617: FutureWarning: `clean_up_tokenization_spaces` was not set. It will be set to `True` by default. This behavior will be deprecated in transformers v4.45, and will be then set to `False` by default. For more details check this issue: https://github.com/huggingface/transformers/issues/31884\n",
      "  warnings.warn(\n"
     ]
    }
   ],
   "source": [
    "# Load the tokenizer and model for NER\n",
    "tokenizer = AutoTokenizer.from_pretrained(\"masakhane/afroxlmr-large-ner-masakhaner-1.0_2.0\")\n",
    "model = AutoModelForTokenClassification.from_pretrained(\"masakhane/afroxlmr-large-ner-masakhaner-1.0_2.0\")\n",
    "\n",
    "# Set up NER pipeline\n",
    "nlp = pipeline(\"ner\", model=model, tokenizer=tokenizer)"
   ]
  },
  {
   "cell_type": "markdown",
   "metadata": {},
   "source": [
    "## clean the text "
   ]
  },
  {
   "cell_type": "code",
   "execution_count": 67,
   "metadata": {},
   "outputs": [
    {
     "data": {
      "text/html": [
       "<div>\n",
       "<style scoped>\n",
       "    .dataframe tbody tr th:only-of-type {\n",
       "        vertical-align: middle;\n",
       "    }\n",
       "\n",
       "    .dataframe tbody tr th {\n",
       "        vertical-align: top;\n",
       "    }\n",
       "\n",
       "    .dataframe thead th {\n",
       "        text-align: right;\n",
       "    }\n",
       "</style>\n",
       "<table border=\"1\" class=\"dataframe\">\n",
       "  <thead>\n",
       "    <tr style=\"text-align: right;\">\n",
       "      <th></th>\n",
       "      <th>Channel Title</th>\n",
       "      <th>Channel Username</th>\n",
       "      <th>ID</th>\n",
       "      <th>Message</th>\n",
       "      <th>Date</th>\n",
       "      <th>Media Path</th>\n",
       "    </tr>\n",
       "  </thead>\n",
       "  <tbody>\n",
       "    <tr>\n",
       "      <th>2</th>\n",
       "      <td>Fashion tera</td>\n",
       "      <td>@Fashiontera</td>\n",
       "      <td>3964</td>\n",
       "      <td>\\nCLASICO\\n\\nPrice  2200 No gift box\\nFree De...</td>\n",
       "      <td>2024-09-24 14:34:31+00:00</td>\n",
       "      <td>photos\\@Fashiontera_3964.jpg</td>\n",
       "    </tr>\n",
       "    <tr>\n",
       "      <th>4</th>\n",
       "      <td>Fashion tera</td>\n",
       "      <td>@Fashiontera</td>\n",
       "      <td>3962</td>\n",
       "      <td>\\nPuma \\nMade in Vietnam \\n\\nSize 404143\\nPric...</td>\n",
       "      <td>2024-09-18 15:26:06+00:00</td>\n",
       "      <td>photos\\@Fashiontera_3962.jpg</td>\n",
       "    </tr>\n",
       "    <tr>\n",
       "      <th>8</th>\n",
       "      <td>Fashion tera</td>\n",
       "      <td>@Fashiontera</td>\n",
       "      <td>3950</td>\n",
       "      <td>New year Discount \\n\\n \\n\\nInbox Hiwe5266\\nስልክ...</td>\n",
       "      <td>2024-09-08 16:08:15+00:00</td>\n",
       "      <td>photos\\@Fashiontera_3950.jpg</td>\n",
       "    </tr>\n",
       "    <tr>\n",
       "      <th>19</th>\n",
       "      <td>Fashion tera</td>\n",
       "      <td>@Fashiontera</td>\n",
       "      <td>3939</td>\n",
       "      <td>\\nSkechers \\nMade in Vietnam \\n\\nSize 4243\\nP...</td>\n",
       "      <td>2024-09-08 15:45:52+00:00</td>\n",
       "      <td>photos\\@Fashiontera_3939.jpg</td>\n",
       "    </tr>\n",
       "    <tr>\n",
       "      <th>31</th>\n",
       "      <td>Fashion tera</td>\n",
       "      <td>@Fashiontera</td>\n",
       "      <td>3915</td>\n",
       "      <td>\\nReebok \\nMade in Vietnam \\n\\nSize 404142\\nPr...</td>\n",
       "      <td>2024-09-01 19:38:25+00:00</td>\n",
       "      <td>photos\\@Fashiontera_3915.jpg</td>\n",
       "    </tr>\n",
       "  </tbody>\n",
       "</table>\n",
       "</div>"
      ],
      "text/plain": [
       "   Channel Title Channel Username    ID  \\\n",
       "2   Fashion tera     @Fashiontera  3964   \n",
       "4   Fashion tera     @Fashiontera  3962   \n",
       "8   Fashion tera     @Fashiontera  3950   \n",
       "19  Fashion tera     @Fashiontera  3939   \n",
       "31  Fashion tera     @Fashiontera  3915   \n",
       "\n",
       "                                              Message  \\\n",
       "2    \\nCLASICO\\n\\nPrice  2200 No gift box\\nFree De...   \n",
       "4   \\nPuma \\nMade in Vietnam \\n\\nSize 404143\\nPric...   \n",
       "8   New year Discount \\n\\n \\n\\nInbox Hiwe5266\\nስልክ...   \n",
       "19   \\nSkechers \\nMade in Vietnam \\n\\nSize 4243\\nP...   \n",
       "31  \\nReebok \\nMade in Vietnam \\n\\nSize 404142\\nPr...   \n",
       "\n",
       "                         Date                    Media Path  \n",
       "2   2024-09-24 14:34:31+00:00  photos\\@Fashiontera_3964.jpg  \n",
       "4   2024-09-18 15:26:06+00:00  photos\\@Fashiontera_3962.jpg  \n",
       "8   2024-09-08 16:08:15+00:00  photos\\@Fashiontera_3950.jpg  \n",
       "19  2024-09-08 15:45:52+00:00  photos\\@Fashiontera_3939.jpg  \n",
       "31  2024-09-01 19:38:25+00:00  photos\\@Fashiontera_3915.jpg  "
      ]
     },
     "metadata": {},
     "output_type": "display_data"
    }
   ],
   "source": [
    "# Function to clean the text (remove emojis, symbols, etc.)\n",
    "def remove_emoji(text):\n",
    "    if isinstance(text, str):\n",
    "        return emoji.replace_emoji(text, replace='')\n",
    "    return text\n",
    "\n",
    "def remove_symbols(text):\n",
    "    if isinstance(text, str):\n",
    "        return re.sub(r'[^A-Za-z0-9ሀ-ፐ\\s]+', '', text)\n",
    "    return text\n",
    "\n",
    "# Apply cleaning functions to 'Message' column\n",
    "df['Message'] = df['Message'].apply(remove_emoji).apply(remove_symbols)\n",
    "display(df.head())"
   ]
  },
  {
   "cell_type": "markdown",
   "metadata": {},
   "source": [
    "## map NER model results to CoNLL format labels"
   ]
  },
  {
   "cell_type": "code",
   "execution_count": 68,
   "metadata": {},
   "outputs": [],
   "source": [
    "# Function to map NER model results to CoNLL format labels\n",
    "def map_ner_to_conll(ner_results, tokens):\n",
    "    labels = ['O'] * len(tokens)  # Initialize labels as 'O' (Outside)\n",
    "    \n",
    "    for entity in ner_results:\n",
    "        word = entity['word'].replace('##', '')  # Remove subword artifacts from NER results\n",
    "        entity_type = entity['entity']  # Extract entity type\n",
    "        \n",
    "        # Define mapping for NER entity types\n",
    "        label = 'O'  # Default label\n",
    "        if entity_type == 'B-LOC':\n",
    "            label = 'B-LOC'\n",
    "        elif entity_type == 'I-LOC':\n",
    "            label = 'I-LOC'\n",
    "        elif entity_type == 'B-ORG':\n",
    "            label = 'B-PRODUCT'\n",
    "        elif entity_type == 'I-ORG':\n",
    "            label = 'I-PRODUCT'\n",
    "        elif entity_type == 'B-MISC':\n",
    "            label = 'B-PRICE'\n",
    "        elif entity_type == 'I-MISC':\n",
    "            label = 'I-PRICE'\n",
    "        \n",
    "        # Apply NER labels to matching tokens\n",
    "        for i, token in enumerate(tokens):\n",
    "            if word in token:\n",
    "                labels[i] = label\n",
    "\n",
    "    return labels\n",
    "\n",
    "# Custom labeling function to identify prices and locations\n",
    "def custom_label_prices_locations(tokens):\n",
    "    labels = ['O'] * len(tokens)  # Initialize labels as 'O'\n",
    "    \n",
    "    for i, token in enumerate(tokens):\n",
    "        # Label prices (numbers, ETB, ብር)\n",
    "        if re.match(r'^\\d+(\\.\\d{1,2})?$', token) or 'ETB' in token or 'ዋጋ' in token or '$' in token or 'ብር' in token:\n",
    "            labels[i] = 'I-PRICE'\n",
    "        # Label locations (e.g., Addis Ababa, ቦሌ)\n",
    "        elif any(loc in token for loc in ['Addis Ababa', 'ለቡ', 'ቦሌ', 'ሜክሲኮ']):\n",
    "            labels[i] = 'I-LOC'\n",
    "    \n",
    "    return labels\n",
    "\n",
    "# Function to combine both NER and custom labels\n",
    "def combine_labels(ner_labels, custom_labels):\n",
    "    final_labels = []\n",
    "    \n",
    "    for ner_label, custom_label in zip(ner_labels, custom_labels):\n",
    "        if ner_label != 'O':  # NER label takes precedence\n",
    "            final_labels.append(ner_label)\n",
    "        else:\n",
    "            final_labels.append(custom_label)  # Otherwise, use custom label\n",
    "    \n",
    "    return final_labels"
   ]
  },
  {
   "cell_type": "markdown",
   "metadata": {},
   "source": [
    "## process a message with both NER and custom methods"
   ]
  },
  {
   "cell_type": "code",
   "execution_count": 69,
   "metadata": {},
   "outputs": [],
   "source": [
    "\n",
    "# Function to process a message with both NER and custom methods\n",
    "def process_message(message, nlp_pipeline):\n",
    "    tokens = re.findall(r'\\S+', message)  # Tokenize the message\n",
    "    \n",
    "    # Apply NER model\n",
    "    ner_results = nlp_pipeline(message)\n",
    "    ner_labels = map_ner_to_conll(ner_results, tokens)\n",
    "    \n",
    "    # Apply custom labeling\n",
    "    custom_labels = custom_label_prices_locations(tokens)\n",
    "    \n",
    "    # Combine both label sets\n",
    "    final_labels = combine_labels(ner_labels, custom_labels)\n",
    "    \n",
    "    # Return tokens with their combined labels\n",
    "    labeled_tokens = [f\"{token} {label}\" for token, label in zip(tokens, final_labels)]\n",
    "    return \"\\n\".join(labeled_tokens)\n",
    "\n",
    "# Apply the combined processing to each message\n",
    "df['Labeled_Message'] = df['Message'].apply(lambda msg: process_message(msg, nlp))\n",
    "\n"
   ]
  },
  {
   "cell_type": "code",
   "execution_count": 70,
   "metadata": {},
   "outputs": [
    {
     "data": {
      "text/plain": [
       "2       CLASICO O\\nPrice O\\n2200 I-PRICE\\nNo O\\ngift O...\n",
       "4       Puma O\\nMade O\\nin O\\nVietnam O\\nSize O\\n40414...\n",
       "8       New O\\nyear O\\nDiscount O\\nInbox O\\nHiwe5266 O...\n",
       "19      Skechers O\\nMade O\\nin O\\nVietnam O\\nSize O\\n4...\n",
       "31      Reebok I-PRODUCT\\nMade I-PRODUCT\\nin O\\nVietna...\n",
       "                              ...                        \n",
       "2612                                        Sold O\\nout O\n",
       "2613    Nikon O\\nD9 O\\nDigital O\\nCamera O\\nPrice O\\n1...\n",
       "2614    Vans O\\nLeather O\\nMade O\\nin O\\nVietnam O\\nSi...\n",
       "2615    Samsung O\\nTV O\\nCurved O\\nFull O\\nHD O\\n55 I-...\n",
       "2616    Rebook O\\nMade O\\nin O\\nVietnam O\\nSize O\\n41 ...\n",
       "Name: Labeled_Message, Length: 1920, dtype: object"
      ]
     },
     "execution_count": 70,
     "metadata": {},
     "output_type": "execute_result"
    }
   ],
   "source": [
    "df['Labeled_Message'] "
   ]
  },
  {
   "cell_type": "markdown",
   "metadata": {},
   "source": [
    "## Save the final labeled data"
   ]
  },
  {
   "cell_type": "code",
   "execution_count": 71,
   "metadata": {},
   "outputs": [
    {
     "name": "stdout",
     "output_type": "stream",
     "text": [
      "labeled data saved to C:/Users/Administrator/Documents/kifiya/Week_5/labeled_data_conll.txt\n"
     ]
    }
   ],
   "source": [
    "\n",
    "# Save the final labeled data to a CoNLL-style file\n",
    "output_file_combined = 'C:/Users/Administrator/Documents/kifiya/Week_5/labeled_data_conll.txt'\n",
    "with open(output_file_combined, 'w', encoding='utf-8') as f:\n",
    "    for index, row in df.iterrows():\n",
    "        f.write(f\"{row['Labeled_Message']}\\n\\n\")\n",
    "\n",
    "print(f\"labeled data saved to {output_file_combined}\")\n"
   ]
  }
 ],
 "metadata": {
  "kernelspec": {
   "display_name": "condaenv",
   "language": "python",
   "name": "python3"
  },
  "language_info": {
   "codemirror_mode": {
    "name": "ipython",
    "version": 3
   },
   "file_extension": ".py",
   "mimetype": "text/x-python",
   "name": "python",
   "nbconvert_exporter": "python",
   "pygments_lexer": "ipython3",
   "version": "3.9.15"
  }
 },
 "nbformat": 4,
 "nbformat_minor": 2
}
