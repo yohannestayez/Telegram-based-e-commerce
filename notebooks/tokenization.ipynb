{
 "cells": [
  {
   "cell_type": "code",
   "execution_count": 113,
   "metadata": {},
   "outputs": [],
   "source": [
    "import pandas as pd\n",
    "from transformers import AutoTokenizer\n",
    "from amseg.amharicSegmenter import AmharicSegmenter\n",
    "import sentencepiece as spm\n",
    "import emoji\n",
    "import re\n"
   ]
  },
  {
   "cell_type": "code",
   "execution_count": 114,
   "metadata": {},
   "outputs": [],
   "source": [
    "# Load the telegram dataset\n",
    "file_path = 'C:/Users/Administrator/Documents/kifiya/Week_5/telegram_data.csv'\n",
    "df = pd.read_csv(file_path)"
   ]
  },
  {
   "cell_type": "code",
   "execution_count": 115,
   "metadata": {},
   "outputs": [],
   "source": [
    "# Function to remove emojis (with type checking)\n",
    "def remove_emoji(text):\n",
    "    if isinstance(text, str):\n",
    "        return emoji.replace_emoji(text, replace='')\n",
    "    return text  # Return the original value if it's not a string\n",
    "\n",
    "# Function to remove symbols and non-alphabetic characters (with type checking)\n",
    "def remove_symbols(text):\n",
    "    if isinstance(text, str):\n",
    "        return re.sub(r'[^A-Za-z0-9ሀ-ፐ\\s]+', '', text)\n",
    "    return text  # Return the original value if it's not a string\n",
    "\n",
    "# Apply the functions to the 'Message' column\n",
    "df['Message'] = df['Message'].apply(remove_emoji).apply(remove_symbols)\n",
    "df['Message'] = df['Message'].fillna('')"
   ]
  },
  {
   "cell_type": "code",
   "execution_count": 116,
   "metadata": {},
   "outputs": [
    {
     "name": "stderr",
     "output_type": "stream",
     "text": [
      "c:\\Users\\Administrator\\miniconda3\\envs\\condaenv\\lib\\site-packages\\transformers\\tokenization_utils_base.py:1617: FutureWarning: `clean_up_tokenization_spaces` was not set. It will be set to `True` by default. This behavior will be deprecated in transformers v4.45, and will be then set to `False` by default. For more details check this issue: https://github.com/huggingface/transformers/issues/31884\n",
      "  warnings.warn(\n"
     ]
    },
    {
     "name": "stdout",
     "output_type": "stream",
     "text": [
      "Aligned Tokens:\n"
     ]
    },
    {
     "data": {
      "text/plain": [
       "'▁C'"
      ]
     },
     "metadata": {},
     "output_type": "display_data"
    },
    {
     "data": {
      "text/plain": [
       "'LAS'"
      ]
     },
     "metadata": {},
     "output_type": "display_data"
    },
    {
     "data": {
      "text/plain": [
       "'ICO'"
      ]
     },
     "metadata": {},
     "output_type": "display_data"
    },
    {
     "data": {
      "text/plain": [
       "'▁Price'"
      ]
     },
     "metadata": {},
     "output_type": "display_data"
    },
    {
     "data": {
      "text/plain": [
       "'▁2200'"
      ]
     },
     "metadata": {},
     "output_type": "display_data"
    },
    {
     "data": {
      "text/plain": [
       "'▁No'"
      ]
     },
     "metadata": {},
     "output_type": "display_data"
    },
    {
     "data": {
      "text/plain": [
       "'▁gift'"
      ]
     },
     "metadata": {},
     "output_type": "display_data"
    },
    {
     "data": {
      "text/plain": [
       "'▁box'"
      ]
     },
     "metadata": {},
     "output_type": "display_data"
    },
    {
     "data": {
      "text/plain": [
       "'▁Free'"
      ]
     },
     "metadata": {},
     "output_type": "display_data"
    },
    {
     "data": {
      "text/plain": [
       "'▁Delivery'"
      ]
     },
     "metadata": {},
     "output_type": "display_data"
    },
    {
     "data": {
      "text/plain": [
       "'▁In'"
      ]
     },
     "metadata": {},
     "output_type": "display_data"
    },
    {
     "data": {
      "text/plain": [
       "'box'"
      ]
     },
     "metadata": {},
     "output_type": "display_data"
    },
    {
     "data": {
      "text/plain": [
       "'▁Hi'"
      ]
     },
     "metadata": {},
     "output_type": "display_data"
    },
    {
     "data": {
      "text/plain": [
       "'we'"
      ]
     },
     "metadata": {},
     "output_type": "display_data"
    },
    {
     "data": {
      "text/plain": [
       "'52'"
      ]
     },
     "metadata": {},
     "output_type": "display_data"
    },
    {
     "data": {
      "text/plain": [
       "'66'"
      ]
     },
     "metadata": {},
     "output_type": "display_data"
    },
    {
     "data": {
      "text/plain": [
       "'▁ስልክ'"
      ]
     },
     "metadata": {},
     "output_type": "display_data"
    },
    {
     "data": {
      "text/plain": [
       "'▁25'"
      ]
     },
     "metadata": {},
     "output_type": "display_data"
    },
    {
     "data": {
      "text/plain": [
       "'1945'"
      ]
     },
     "metadata": {},
     "output_type": "display_data"
    },
    {
     "data": {
      "text/plain": [
       "'355'"
      ]
     },
     "metadata": {},
     "output_type": "display_data"
    }
   ],
   "source": [
    "# Extract the messages for further processing\n",
    "tokens = df['Message'].tolist()\n",
    "\n",
    "# Initialize the tokenizer\n",
    "model_name = \"xlm-roberta-base\"\n",
    "tokenizer = AutoTokenizer.from_pretrained(model_name)\n",
    "\n",
    "# Function to tokenize the text (with type checking)\n",
    "def tokenize_text(tokenizer, tokens):\n",
    "    aligned_tokens = []\n",
    "    for word in tokens:\n",
    "        if isinstance(word, str):  # Ensure that the token is a string\n",
    "            tokenized_word = tokenizer.tokenize(word)\n",
    "            aligned_tokens.extend(tokenized_word)\n",
    "    return aligned_tokens\n",
    "\n",
    "# Tokenize the text\n",
    "aligned_tokens = tokenize_text(tokenizer, tokens)\n",
    "\n",
    "# Display the first 20 tokenized results\n",
    "print(\"Aligned Tokens:\")\n",
    "for token in aligned_tokens[:20]:\n",
    "    display(f\"{token}\")"
   ]
  },
  {
   "cell_type": "code",
   "execution_count": 117,
   "metadata": {},
   "outputs": [
    {
     "data": {
      "text/plain": [
       "'Segmented Amharic Tokens:'"
      ]
     },
     "metadata": {},
     "output_type": "display_data"
    },
    {
     "data": {
      "text/plain": [
       "['',\n",
       " '',\n",
       " ['\\nCLASICO\\n\\nPrice',\n",
       "  '2200',\n",
       "  'No',\n",
       "  'gift',\n",
       "  'box\\nFree',\n",
       "  'Delivery\\nInbox',\n",
       "  'Hiwe5266\\nስልክ',\n",
       "  '251945355266\\n\\n',\n",
       "  'ፋሽን',\n",
       "  'ተራ',\n",
       "  'Fashion',\n",
       "  'Tera',\n",
       "  '\\n',\n",
       "  '\\nአድራሻ',\n",
       "  'አዲስ',\n",
       "  'አበባ',\n",
       "  'ጦር',\n",
       "  'ሀይሎች',\n",
       "  'ድሪም',\n",
       "  'ታወር',\n",
       "  '2ተኛ',\n",
       "  'ፎቅ\\nቢሮ',\n",
       "  'ቁጥር',\n",
       "  '205\\n'],\n",
       " '',\n",
       " ['\\nPuma',\n",
       "  '\\nMade',\n",
       "  'in',\n",
       "  'Vietnam',\n",
       "  '\\n\\nSize',\n",
       "  '404143\\nPrice',\n",
       "  '3600\\nFree',\n",
       "  'Delivery\\nInbox',\n",
       "  'Hiwe5266\\nስልክ',\n",
       "  '251945355266\\n\\n',\n",
       "  'ፋሽን',\n",
       "  'ተራ',\n",
       "  'Fashion',\n",
       "  'Tera',\n",
       "  '\\n',\n",
       "  '\\nአድራሻ',\n",
       "  'አዲስ',\n",
       "  'አበባ',\n",
       "  'ጦር',\n",
       "  'ሀይሎች',\n",
       "  'ድሪም',\n",
       "  'ታወር',\n",
       "  '2ተኛ',\n",
       "  'ፎቅ\\nቢሮ',\n",
       "  'ቁጥር',\n",
       "  '205\\n'],\n",
       " '',\n",
       " '',\n",
       " '',\n",
       " ['New',\n",
       "  'year',\n",
       "  'Discount',\n",
       "  '\\n\\n',\n",
       "  '\\n\\nInbox',\n",
       "  'Hiwe5266\\nስልክ',\n",
       "  '251945355266\\n\\n',\n",
       "  'ፋሽን',\n",
       "  'ተራ',\n",
       "  'Fashion',\n",
       "  'Tera',\n",
       "  '\\n',\n",
       "  '\\nአድራሻ',\n",
       "  'አዲስ',\n",
       "  'አበባ',\n",
       "  'ጦር',\n",
       "  'ሀይሎች',\n",
       "  'ድሪም',\n",
       "  'ታወር',\n",
       "  '2ተኛ',\n",
       "  'ፎቅ\\nቢሮ',\n",
       "  'ቁጥር',\n",
       "  '205\\n\\n'],\n",
       " '',\n",
       " '',\n",
       " '',\n",
       " '',\n",
       " '',\n",
       " '',\n",
       " '',\n",
       " '',\n",
       " '',\n",
       " '',\n",
       " ['\\nSkechers',\n",
       "  '\\nMade',\n",
       "  'in',\n",
       "  'Vietnam',\n",
       "  '\\n\\nSize',\n",
       "  '4243\\nPrice',\n",
       "  '3100\\nFree',\n",
       "  'Delivery\\nInbox',\n",
       "  'Hiwe5266\\nስልክ',\n",
       "  '251945355266\\n\\n',\n",
       "  'ፋሽን',\n",
       "  'ተራ',\n",
       "  'Fashion',\n",
       "  'Tera',\n",
       "  '\\n',\n",
       "  '\\nአድራሻ',\n",
       "  'አዲስ',\n",
       "  'አበባ',\n",
       "  'ጦር',\n",
       "  'ሀይሎች',\n",
       "  'ድሪም',\n",
       "  'ታወር',\n",
       "  '2ተኛ',\n",
       "  'ፎቅ\\nቢሮ',\n",
       "  'ቁጥር',\n",
       "  '205\\n']]"
      ]
     },
     "metadata": {},
     "output_type": "display_data"
    }
   ],
   "source": [
    "\n",
    "# Initialize the Amharic segmenter\n",
    "sent_punct = []\n",
    "word_punct = []\n",
    "segmenter = AmharicSegmenter(sent_punct, word_punct)\n",
    "\n",
    "# Function to segment tokens for Amharic\n",
    "# Function to segment Amharic text (with type checking)\n",
    "def segment_amharic_text(segmenter, tokens):\n",
    "    segmented_tokens = []\n",
    "    for word in tokens:\n",
    "        if isinstance(word, str):  # Ensure the token is a string\n",
    "            if any(char in word for char in 'አ-ፈ'):\n",
    "                tokenized_word = segmenter.amharic_tokenizer(word)\n",
    "            else:\n",
    "                tokenized_word = word  # Leave non-Amharic words as is\n",
    "            segmented_tokens.append(tokenized_word)\n",
    "    return segmented_tokens\n",
    "\n",
    "# Segment Amharic tokens\n",
    "segmented_tokens = segment_amharic_text(segmenter, tokens)\n",
    "\n",
    "# Display the first 20 segmented results\n",
    "display(\"Segmented Amharic Tokens:\", segmented_tokens[:20])"
   ]
  },
  {
   "cell_type": "code",
   "execution_count": 118,
   "metadata": {},
   "outputs": [],
   "source": [
    "# Save the final tokens to a CSV file\n",
    "output_df = pd.DataFrame({'Token': segmented_tokens})\n",
    "output_df.to_csv('C:/Users/Administrator/Documents/kifiya/Week_5/final_telegram_tokens.csv', index=False)"
   ]
  },
  {
   "cell_type": "code",
   "execution_count": 119,
   "metadata": {},
   "outputs": [
    {
     "name": "stdout",
     "output_type": "stream",
     "text": [
      "Display Results from Index 50 to 80:\n"
     ]
    },
    {
     "data": {
      "text/plain": [
       "\"['\\\\nNike', 'Air', 'Formula', '23\\\\nMade', 'in', 'Vietnam', '\\\\n\\\\nSize', '4243\\\\nPrice', '3400\\\\nFree', 'Delivery\\\\nInbox', 'Hiwe5266\\\\nስልክ', '251945355266\\\\n\\\\n', 'ፋሽን', 'ተራ', 'Fashion', 'Tera', '\\\\n', '\\\\nአድራሻ', 'አዲስ', 'አበባ', 'ጦር', 'ሀይሎች', 'ድሪም', 'ታወር', '2ተኛ', 'ፎቅ\\\\nቢሮ', 'ቁጥር', '205\\\\n']\""
      ]
     },
     "metadata": {},
     "output_type": "display_data"
    },
    {
     "data": {
      "text/plain": [
       "''"
      ]
     },
     "metadata": {},
     "output_type": "display_data"
    },
    {
     "data": {
      "text/plain": [
       "''"
      ]
     },
     "metadata": {},
     "output_type": "display_data"
    },
    {
     "data": {
      "text/plain": [
       "\"['\\\\nNike', 'Dunk', 'vs', 'Af1\\\\nMade', 'in', 'Vietnam', '\\\\n\\\\nSize', '4043\\\\nPrice', '4500\\\\nFree', 'Delivery\\\\nInbox', 'Hiwe5266\\\\nስልክ', '251945355266\\\\n\\\\n', 'ፋሽን', 'ተራ', 'Fashion', 'Tera', '\\\\n', '\\\\nአድራሻ', 'አዲስ', 'አበባ', 'ጦር', 'ሀይሎች', 'ድሪም', 'ታወር', '2ተኛ', 'ፎቅ\\\\nቢሮ', 'ቁጥር', '205\\\\n']\""
      ]
     },
     "metadata": {},
     "output_type": "display_data"
    },
    {
     "data": {
      "text/plain": [
       "\"['\\\\nRolex', 'Men', 'Watch', '\\\\n\\\\nPrice', '2200', 'No', 'gift', 'box\\\\nFree', 'Delivery\\\\nInbox', 'Hiwe5266\\\\nስልክ', '251945355266\\\\n\\\\n', 'ፋሽን', 'ተራ', 'Fashion', 'Tera', '\\\\n', '\\\\nአድራሻ', 'አዲስ', 'አበባ', 'ጦር', 'ሀይሎች', 'ድሪም', 'ታወር', '2ተኛ', 'ፎቅ\\\\nቢሮ', 'ቁጥር', '205\\\\n']\""
      ]
     },
     "metadata": {},
     "output_type": "display_data"
    },
    {
     "data": {
      "text/plain": [
       "''"
      ]
     },
     "metadata": {},
     "output_type": "display_data"
    },
    {
     "data": {
      "text/plain": [
       "\"['\\\\nCYBER', 'Men', 'Watch', '\\\\n\\\\nPrice', '2500', 'No', 'gift', 'box\\\\nFree', 'Delivery\\\\nInbox', 'Hiwe5266\\\\nስልክ', '251945355266\\\\n\\\\n', 'ፋሽን', 'ተራ', 'Fashion', 'Tera', '\\\\n', '\\\\nአድራሻ', 'አዲስ', 'አበባ', 'ጦር', 'ሀይሎች', 'ድሪም', 'ታወር', '2ተኛ', 'ፎቅ\\\\nቢሮ', 'ቁጥር', '205\\\\n']\""
      ]
     },
     "metadata": {},
     "output_type": "display_data"
    },
    {
     "data": {
      "text/plain": [
       "''"
      ]
     },
     "metadata": {},
     "output_type": "display_data"
    },
    {
     "data": {
      "text/plain": [
       "''"
      ]
     },
     "metadata": {},
     "output_type": "display_data"
    },
    {
     "data": {
      "text/plain": [
       "\"['\\\\nFashion', 'Shose', '\\\\n\\\\nSize', '4041\\\\nPrice', '3200\\\\nFree', 'Delivery\\\\nInbox', 'Hiwe5266\\\\nስልክ', '251945355266\\\\n\\\\n', 'ፋሽን', 'ተራ', 'Fashion', 'Tera', '\\\\n', '\\\\nአድራሻ', 'አዲስ', 'አበባ', 'ጦር', 'ሀይሎች', 'ድሪም', 'ታወር', '2ተኛ', 'ፎቅ\\\\nቢሮ', 'ቁጥር', '205\\\\n']\""
      ]
     },
     "metadata": {},
     "output_type": "display_data"
    },
    {
     "data": {
      "text/plain": [
       "\"['\\\\nSpeed', 'Couple', 'watch', '\\\\n\\\\nPrices', '3500\\\\nFree', 'Delivery\\\\nInbox', 'Hiwe5266\\\\nስልክ', '251945355266\\\\n\\\\n', 'ፋሽን', 'ተራ', 'Fashion', 'Tera', '\\\\n', '\\\\nአድራሻ', 'አዲስ', 'አበባ', 'ጦር', 'ሀይሎች', 'ድሪም', 'ታወር', '2ተኛ', 'ፎቅ\\\\nቢሮ', 'ቁጥር', '205\\\\n']\""
      ]
     },
     "metadata": {},
     "output_type": "display_data"
    },
    {
     "data": {
      "text/plain": [
       "''"
      ]
     },
     "metadata": {},
     "output_type": "display_data"
    },
    {
     "data": {
      "text/plain": [
       "\"['\\\\nFashion', 'Shose', '\\\\n\\\\nSize', '4243\\\\nPrice', '2900\\\\nFree', 'Delivery\\\\nInbox', 'Hiwe5266\\\\nስልክ', '251945355266\\\\n\\\\n', 'ፋሽን', 'ተራ', 'Fashion', 'Tera', '\\\\n', '\\\\nአድራሻ', 'አዲስ', 'አበባ', 'ጦር', 'ሀይሎች', 'ድሪም', 'ታወር', '2ተኛ', 'ፎቅ\\\\nቢሮ', 'ቁጥር', '205\\\\n']\""
      ]
     },
     "metadata": {},
     "output_type": "display_data"
    },
    {
     "data": {
      "text/plain": [
       "''"
      ]
     },
     "metadata": {},
     "output_type": "display_data"
    },
    {
     "data": {
      "text/plain": [
       "''"
      ]
     },
     "metadata": {},
     "output_type": "display_data"
    },
    {
     "data": {
      "text/plain": [
       "\"['\\\\nRolex', 'Couple', 'watch', '\\\\n', '\\\\nPrices', '3900\\\\nFree', 'Delivery\\\\nInbox', 'Hiwe5266\\\\nስልክ', '251945355266\\\\n\\\\n', 'ፋሽን', 'ተራ', 'Fashion', 'Tera', '\\\\n', '\\\\nአድራሻ', 'አዲስ', 'አበባ', 'ጦር', 'ሀይሎች', 'ድሪም', 'ታወር', '2ተኛ', 'ፎቅ\\\\nቢሮ', 'ቁጥር', '205\\\\n']\""
      ]
     },
     "metadata": {},
     "output_type": "display_data"
    },
    {
     "data": {
      "text/plain": [
       "''"
      ]
     },
     "metadata": {},
     "output_type": "display_data"
    },
    {
     "data": {
      "text/plain": [
       "''"
      ]
     },
     "metadata": {},
     "output_type": "display_data"
    },
    {
     "data": {
      "text/plain": [
       "''"
      ]
     },
     "metadata": {},
     "output_type": "display_data"
    },
    {
     "data": {
      "text/plain": [
       "''"
      ]
     },
     "metadata": {},
     "output_type": "display_data"
    },
    {
     "data": {
      "text/plain": [
       "\"['\\\\nBalenciaga\\\\nMade', 'in', 'Vietnam', '\\\\n\\\\nSize', '3637383940\\\\nPrice', '2900\\\\nFree', 'Delivery\\\\nInbox', 'Hiwe5266\\\\nስልክ', '251945355266\\\\n\\\\n', 'ፋሽን', 'ተራ', 'Fashion', 'Tera', '\\\\n', '\\\\nአድራሻ', 'አዲስ', 'አበባ', 'ጦር', 'ሀይሎች', 'ድሪም', 'ታወር', '2ተኛ', 'ፎቅ\\\\nቢሮ', 'ቁጥር', '205\\\\n']\""
      ]
     },
     "metadata": {},
     "output_type": "display_data"
    },
    {
     "data": {
      "text/plain": [
       "\"['\\\\nNike', 'Dunk', 'SB\\\\nMade', 'in', 'Vietnam', '\\\\n\\\\nSize', '4243\\\\nPrice', '3500\\\\nFree', 'Delivery\\\\nInbox', 'Hiwe5266\\\\nስልክ', '251945355266\\\\n\\\\n', 'ፋሽን', 'ተራ', 'Fashion', 'Tera', '\\\\n', '\\\\nአድራሻ', 'አዲስ', 'አበባ', 'ጦር', 'ሀይሎች', 'ድሪም', 'ታወር', '2ተኛ', 'ፎቅ\\\\nቢሮ', 'ቁጥር', '205\\\\n']\""
      ]
     },
     "metadata": {},
     "output_type": "display_data"
    },
    {
     "data": {
      "text/plain": [
       "''"
      ]
     },
     "metadata": {},
     "output_type": "display_data"
    },
    {
     "data": {
      "text/plain": [
       "\"['\\\\nAdidas', '\\\\nMade', 'in', 'Vietnam', '\\\\n\\\\nSize', '414243\\\\nPrice', '3400\\\\nFree', 'Delivery\\\\nInbox', 'Hiwe5266\\\\nስልክ', '251945355266\\\\n\\\\n', 'ፋሽን', 'ተራ', 'Fashion', 'Tera', '\\\\n', '\\\\nአድራሻ', 'አዲስ', 'አበባ', 'ጦር', 'ሀይሎች', 'ድሪም', 'ታወር', '2ተኛ', 'ፎቅ\\\\nቢሮ', 'ቁጥር', '205\\\\n']\""
      ]
     },
     "metadata": {},
     "output_type": "display_data"
    },
    {
     "data": {
      "text/plain": [
       "''"
      ]
     },
     "metadata": {},
     "output_type": "display_data"
    },
    {
     "data": {
      "text/plain": [
       "''"
      ]
     },
     "metadata": {},
     "output_type": "display_data"
    },
    {
     "data": {
      "text/plain": [
       "''"
      ]
     },
     "metadata": {},
     "output_type": "display_data"
    },
    {
     "data": {
      "text/plain": [
       "''"
      ]
     },
     "metadata": {},
     "output_type": "display_data"
    },
    {
     "data": {
      "text/plain": [
       "''"
      ]
     },
     "metadata": {},
     "output_type": "display_data"
    },
    {
     "data": {
      "text/plain": [
       "''"
      ]
     },
     "metadata": {},
     "output_type": "display_data"
    }
   ],
   "source": [
    "\n",
    "# Display tokens from index 50 to 80\n",
    "print(\"Display Results from Index 50 to 80:\")\n",
    "for token in segmented_tokens[50:80]:\n",
    "    display(f\"{token}\")\n"
   ]
  },
  {
   "cell_type": "code",
   "execution_count": 120,
   "metadata": {},
   "outputs": [],
   "source": [
    "# Convert all tokens to strings before writing to the file\n",
    "tokens = [str(token) for token in tokens]\n",
    "\n",
    "# Write the tokens to a temporary text file for SentencePiece training\n",
    "with open('temp_text.txt', 'w', encoding='utf-8') as f:\n",
    "    f.write(\"\\n\".join(tokens))\n",
    "\n",
    "\n",
    "# Train SentencePiece model with a vocab size <= 952\n",
    "spm.SentencePieceTrainer.train('--input=temp_text.txt --model_prefix=AmharicSPM --vocab_size=950')"
   ]
  },
  {
   "cell_type": "code",
   "execution_count": 121,
   "metadata": {},
   "outputs": [
    {
     "name": "stdout",
     "output_type": "stream",
     "text": [
      "SentencePiece Tokenization Results:\n",
      "['▁', 'ቁ', '.', '2', '▁', 'ለ', 'ቡ', '▁መ', 'ዳህኒዓ', 'ለ', 'ም', '▁', 'and', '▁', 'he', 're', '▁', 'is', '▁s', 'om', 'e', '▁E', 'ng', 'li', 'sh', '▁', 't', 'ex', 't', '.']\n"
     ]
    }
   ],
   "source": [
    "# Initialize SentencePiece tokenizer\n",
    "tokenizer_spm = spm.SentencePieceProcessor(model_file='AmharicSPM.model')\n",
    "\n",
    "# Tokenize the input text with SentencePiece\n",
    "sentencepiece_tokens = tokenizer_spm.encode(\"ቁ.2 ለቡ መዳህኒዓለም and here is some English text.\", out_type=str)\n",
    "\n",
    "# Print the tokenized words\n",
    "print(\"SentencePiece Tokenization Results:\")\n",
    "print(sentencepiece_tokens)"
   ]
  },
  {
   "cell_type": "code",
   "execution_count": 122,
   "metadata": {},
   "outputs": [
    {
     "name": "stdout",
     "output_type": "stream",
     "text": [
      "Custom Tokenization Results (Index 50 to 80):\n"
     ]
    },
    {
     "data": {
      "text/plain": [
       "'ሀይሎች                      15        '"
      ]
     },
     "metadata": {},
     "output_type": "display_data"
    },
    {
     "data": {
      "text/plain": [
       "'ድሪም                       34        '"
      ]
     },
     "metadata": {},
     "output_type": "display_data"
    },
    {
     "data": {
      "text/plain": [
       "'ታወር                       27        '"
      ]
     },
     "metadata": {},
     "output_type": "display_data"
    },
    {
     "data": {
      "text/plain": [
       "'2ተኛ                       3         '"
      ]
     },
     "metadata": {},
     "output_type": "display_data"
    },
    {
     "data": {
      "text/plain": [
       "'ፎቅ                        35        '"
      ]
     },
     "metadata": {},
     "output_type": "display_data"
    },
    {
     "data": {
      "text/plain": [
       "'ቢሮ                        32        '"
      ]
     },
     "metadata": {},
     "output_type": "display_data"
    },
    {
     "data": {
      "text/plain": [
       "'ቁጥር                       7         '"
      ]
     },
     "metadata": {},
     "output_type": "display_data"
    },
    {
     "data": {
      "text/plain": [
       "'205                       17        '"
      ]
     },
     "metadata": {},
     "output_type": "display_data"
    },
    {
     "data": {
      "text/plain": [
       "'New                       22        '"
      ]
     },
     "metadata": {},
     "output_type": "display_data"
    },
    {
     "data": {
      "text/plain": [
       "'year                      39        '"
      ]
     },
     "metadata": {},
     "output_type": "display_data"
    },
    {
     "data": {
      "text/plain": [
       "'Discount                  44        '"
      ]
     },
     "metadata": {},
     "output_type": "display_data"
    },
    {
     "data": {
      "text/plain": [
       "'Inbox                     37        '"
      ]
     },
     "metadata": {},
     "output_type": "display_data"
    },
    {
     "data": {
      "text/plain": [
       "'Hiwe5266                  3         '"
      ]
     },
     "metadata": {},
     "output_type": "display_data"
    },
    {
     "data": {
      "text/plain": [
       "'ስልክ                       48        '"
      ]
     },
     "metadata": {},
     "output_type": "display_data"
    },
    {
     "data": {
      "text/plain": [
       "'251945355266              41        '"
      ]
     },
     "metadata": {},
     "output_type": "display_data"
    },
    {
     "data": {
      "text/plain": [
       "'ፋሽን                       42        '"
      ]
     },
     "metadata": {},
     "output_type": "display_data"
    },
    {
     "data": {
      "text/plain": [
       "'ተራ                        7         '"
      ]
     },
     "metadata": {},
     "output_type": "display_data"
    },
    {
     "data": {
      "text/plain": [
       "'Fashion                   17        '"
      ]
     },
     "metadata": {},
     "output_type": "display_data"
    },
    {
     "data": {
      "text/plain": [
       "'Tera                      69        '"
      ]
     },
     "metadata": {},
     "output_type": "display_data"
    },
    {
     "data": {
      "text/plain": [
       "'አድራሻ                      89        '"
      ]
     },
     "metadata": {},
     "output_type": "display_data"
    },
    {
     "data": {
      "text/plain": [
       "'አዲስ                       18        '"
      ]
     },
     "metadata": {},
     "output_type": "display_data"
    },
    {
     "data": {
      "text/plain": [
       "'አበባ                       19        '"
      ]
     },
     "metadata": {},
     "output_type": "display_data"
    },
    {
     "data": {
      "text/plain": [
       "'ጦር                        10        '"
      ]
     },
     "metadata": {},
     "output_type": "display_data"
    },
    {
     "data": {
      "text/plain": [
       "'ሀይሎች                      43        '"
      ]
     },
     "metadata": {},
     "output_type": "display_data"
    },
    {
     "data": {
      "text/plain": [
       "'ድሪም                       33        '"
      ]
     },
     "metadata": {},
     "output_type": "display_data"
    },
    {
     "data": {
      "text/plain": [
       "'ታወር                       9         '"
      ]
     },
     "metadata": {},
     "output_type": "display_data"
    },
    {
     "data": {
      "text/plain": [
       "'2ተኛ                       96        '"
      ]
     },
     "metadata": {},
     "output_type": "display_data"
    },
    {
     "data": {
      "text/plain": [
       "'ፎቅ                        270       '"
      ]
     },
     "metadata": {},
     "output_type": "display_data"
    },
    {
     "data": {
      "text/plain": [
       "'ቢሮ                        6         '"
      ]
     },
     "metadata": {},
     "output_type": "display_data"
    },
    {
     "data": {
      "text/plain": [
       "'ቁጥር                       503       '"
      ]
     },
     "metadata": {},
     "output_type": "display_data"
    }
   ],
   "source": [
    "\n",
    "\n",
    "# Tokenize and align using SentencePiece\n",
    "def tokenize_with_sentencepiece(tokenizer_spm, tokens):\n",
    "    aligned_tokens = []\n",
    "    token_ids = []\n",
    "    for word in tokens:\n",
    "        tokenized_ids = tokenizer_spm.encode(word, out_type=int)\n",
    "        tokenized_words = tokenizer_spm.decode(tokenized_ids).split()\n",
    "        aligned_tokens.extend(tokenized_words)\n",
    "        token_ids.extend(tokenized_ids)\n",
    "    return aligned_tokens, token_ids\n",
    "\n",
    "# Tokenize with SentencePiece\n",
    "custom_tokens, custom_ids = tokenize_with_sentencepiece(tokenizer_spm, tokens)\n",
    "\n",
    "# Display results from index 50 to 80\n",
    "print(\"Custom Tokenization Results (Index 50 to 80):\")\n",
    "for token, token_id in zip(custom_tokens[50:80], custom_ids[50:80]):\n",
    "    display(f\"{token:<25} {token_id:<10}\")\n"
   ]
  }
 ],
 "metadata": {
  "kernelspec": {
   "display_name": "condaenv",
   "language": "python",
   "name": "python3"
  },
  "language_info": {
   "codemirror_mode": {
    "name": "ipython",
    "version": 3
   },
   "file_extension": ".py",
   "mimetype": "text/x-python",
   "name": "python",
   "nbconvert_exporter": "python",
   "pygments_lexer": "ipython3",
   "version": "3.9.15"
  }
 },
 "nbformat": 4,
 "nbformat_minor": 2
}
