{
 "cells": [
  {
   "cell_type": "code",
   "execution_count": 49,
   "metadata": {},
   "outputs": [],
   "source": [
    "import pandas as pd\n",
    "from amseg.amharicSegmenter import AmharicSegmenter\n",
    "import sentencepiece as spm\n",
    "import emoji\n",
    "import re"
   ]
  },
  {
   "cell_type": "code",
   "execution_count": 50,
   "metadata": {},
   "outputs": [],
   "source": [
    "# Load the telegram dataset\n",
    "file_path = 'C:/Users/elbet/OneDrive/Desktop/Ten/week5/Telegram-based-e-commerce/telegram_data.csv'\n",
    "df = pd.read_csv(file_path)"
   ]
  },
  {
   "cell_type": "code",
   "execution_count": 51,
   "metadata": {},
   "outputs": [
    {
     "data": {
      "text/html": [
       "<div>\n",
       "<style scoped>\n",
       "    .dataframe tbody tr th:only-of-type {\n",
       "        vertical-align: middle;\n",
       "    }\n",
       "\n",
       "    .dataframe tbody tr th {\n",
       "        vertical-align: top;\n",
       "    }\n",
       "\n",
       "    .dataframe thead th {\n",
       "        text-align: right;\n",
       "    }\n",
       "</style>\n",
       "<table border=\"1\" class=\"dataframe\">\n",
       "  <thead>\n",
       "    <tr style=\"text-align: right;\">\n",
       "      <th></th>\n",
       "      <th>Channel Title</th>\n",
       "      <th>Channel Username</th>\n",
       "      <th>ID</th>\n",
       "      <th>Message</th>\n",
       "      <th>Date</th>\n",
       "      <th>Media Path</th>\n",
       "    </tr>\n",
       "  </thead>\n",
       "  <tbody>\n",
       "    <tr>\n",
       "      <th>0</th>\n",
       "      <td>Fashion tera</td>\n",
       "      <td>@Fashiontera</td>\n",
       "      <td>3966</td>\n",
       "      <td>NaN</td>\n",
       "      <td>2024-09-24 14:34:31+00:00</td>\n",
       "      <td>photos\\@Fashiontera_3966.jpg</td>\n",
       "    </tr>\n",
       "    <tr>\n",
       "      <th>1</th>\n",
       "      <td>Fashion tera</td>\n",
       "      <td>@Fashiontera</td>\n",
       "      <td>3965</td>\n",
       "      <td>NaN</td>\n",
       "      <td>2024-09-24 14:34:31+00:00</td>\n",
       "      <td>photos\\@Fashiontera_3965.jpg</td>\n",
       "    </tr>\n",
       "    <tr>\n",
       "      <th>2</th>\n",
       "      <td>Fashion tera</td>\n",
       "      <td>@Fashiontera</td>\n",
       "      <td>3964</td>\n",
       "      <td>〰️〰️〰️〰️〰️ \\nCLASICO\\n🔸🔸🔸🔸🔸🔸\\nPrice  2200( No ...</td>\n",
       "      <td>2024-09-24 14:34:31+00:00</td>\n",
       "      <td>photos\\@Fashiontera_3964.jpg</td>\n",
       "    </tr>\n",
       "    <tr>\n",
       "      <th>3</th>\n",
       "      <td>Fashion tera</td>\n",
       "      <td>@Fashiontera</td>\n",
       "      <td>3963</td>\n",
       "      <td>NaN</td>\n",
       "      <td>2024-09-21 18:56:46+00:00</td>\n",
       "      <td>photos\\@Fashiontera_3963.jpg</td>\n",
       "    </tr>\n",
       "    <tr>\n",
       "      <th>4</th>\n",
       "      <td>Fashion tera</td>\n",
       "      <td>@Fashiontera</td>\n",
       "      <td>3962</td>\n",
       "      <td>〰️〰️〰️〰️〰️〰️〰️\\nPuma \\nMade in Vietnam \\n🔸🔸🔸🔸🔸...</td>\n",
       "      <td>2024-09-18 15:26:06+00:00</td>\n",
       "      <td>photos\\@Fashiontera_3962.jpg</td>\n",
       "    </tr>\n",
       "    <tr>\n",
       "      <th>...</th>\n",
       "      <td>...</td>\n",
       "      <td>...</td>\n",
       "      <td>...</td>\n",
       "      <td>...</td>\n",
       "      <td>...</td>\n",
       "      <td>...</td>\n",
       "    </tr>\n",
       "    <tr>\n",
       "      <th>2613</th>\n",
       "      <td>Fashion tera</td>\n",
       "      <td>@Fashiontera</td>\n",
       "      <td>96</td>\n",
       "      <td>Nikon \\nD9 Digital Camera\\nPrice 16000\\nContac...</td>\n",
       "      <td>2018-07-05 20:11:35+00:00</td>\n",
       "      <td>photos\\@Fashiontera_96.jpg</td>\n",
       "    </tr>\n",
       "    <tr>\n",
       "      <th>2614</th>\n",
       "      <td>Fashion tera</td>\n",
       "      <td>@Fashiontera</td>\n",
       "      <td>95</td>\n",
       "      <td>Vans Leather\\nMade in Vietnam\\nSize 40, 41\\nPr...</td>\n",
       "      <td>2018-07-05 19:50:38+00:00</td>\n",
       "      <td>photos\\@Fashiontera_95.jpg</td>\n",
       "    </tr>\n",
       "    <tr>\n",
       "      <th>2615</th>\n",
       "      <td>Fashion tera</td>\n",
       "      <td>@Fashiontera</td>\n",
       "      <td>94</td>\n",
       "      <td>Samsung TV\\nCurved Full HD \\n55 Inch\\nPrice 36...</td>\n",
       "      <td>2018-07-05 19:06:11+00:00</td>\n",
       "      <td>photos\\@Fashiontera_94.jpg</td>\n",
       "    </tr>\n",
       "    <tr>\n",
       "      <th>2616</th>\n",
       "      <td>Fashion tera</td>\n",
       "      <td>@Fashiontera</td>\n",
       "      <td>92</td>\n",
       "      <td>Rebook\\nMade in Vietnam\\nSize 41\\nPrice 1350\\n...</td>\n",
       "      <td>2018-07-05 18:39:16+00:00</td>\n",
       "      <td>photos\\@Fashiontera_92.jpg</td>\n",
       "    </tr>\n",
       "    <tr>\n",
       "      <th>2617</th>\n",
       "      <td>Fashion tera</td>\n",
       "      <td>@Fashiontera</td>\n",
       "      <td>1</td>\n",
       "      <td>NaN</td>\n",
       "      <td>2018-05-29 09:31:26+00:00</td>\n",
       "      <td>NaN</td>\n",
       "    </tr>\n",
       "  </tbody>\n",
       "</table>\n",
       "<p>2618 rows × 6 columns</p>\n",
       "</div>"
      ],
      "text/plain": [
       "     Channel Title Channel Username    ID  \\\n",
       "0     Fashion tera     @Fashiontera  3966   \n",
       "1     Fashion tera     @Fashiontera  3965   \n",
       "2     Fashion tera     @Fashiontera  3964   \n",
       "3     Fashion tera     @Fashiontera  3963   \n",
       "4     Fashion tera     @Fashiontera  3962   \n",
       "...            ...              ...   ...   \n",
       "2613  Fashion tera     @Fashiontera    96   \n",
       "2614  Fashion tera     @Fashiontera    95   \n",
       "2615  Fashion tera     @Fashiontera    94   \n",
       "2616  Fashion tera     @Fashiontera    92   \n",
       "2617  Fashion tera     @Fashiontera     1   \n",
       "\n",
       "                                                Message  \\\n",
       "0                                                   NaN   \n",
       "1                                                   NaN   \n",
       "2     〰️〰️〰️〰️〰️ \\nCLASICO\\n🔸🔸🔸🔸🔸🔸\\nPrice  2200( No ...   \n",
       "3                                                   NaN   \n",
       "4     〰️〰️〰️〰️〰️〰️〰️\\nPuma \\nMade in Vietnam \\n🔸🔸🔸🔸🔸...   \n",
       "...                                                 ...   \n",
       "2613  Nikon \\nD9 Digital Camera\\nPrice 16000\\nContac...   \n",
       "2614  Vans Leather\\nMade in Vietnam\\nSize 40, 41\\nPr...   \n",
       "2615  Samsung TV\\nCurved Full HD \\n55 Inch\\nPrice 36...   \n",
       "2616  Rebook\\nMade in Vietnam\\nSize 41\\nPrice 1350\\n...   \n",
       "2617                                                NaN   \n",
       "\n",
       "                           Date                    Media Path  \n",
       "0     2024-09-24 14:34:31+00:00  photos\\@Fashiontera_3966.jpg  \n",
       "1     2024-09-24 14:34:31+00:00  photos\\@Fashiontera_3965.jpg  \n",
       "2     2024-09-24 14:34:31+00:00  photos\\@Fashiontera_3964.jpg  \n",
       "3     2024-09-21 18:56:46+00:00  photos\\@Fashiontera_3963.jpg  \n",
       "4     2024-09-18 15:26:06+00:00  photos\\@Fashiontera_3962.jpg  \n",
       "...                         ...                           ...  \n",
       "2613  2018-07-05 20:11:35+00:00    photos\\@Fashiontera_96.jpg  \n",
       "2614  2018-07-05 19:50:38+00:00    photos\\@Fashiontera_95.jpg  \n",
       "2615  2018-07-05 19:06:11+00:00    photos\\@Fashiontera_94.jpg  \n",
       "2616  2018-07-05 18:39:16+00:00    photos\\@Fashiontera_92.jpg  \n",
       "2617  2018-05-29 09:31:26+00:00                           NaN  \n",
       "\n",
       "[2618 rows x 6 columns]"
      ]
     },
     "execution_count": 51,
     "metadata": {},
     "output_type": "execute_result"
    }
   ],
   "source": [
    "df"
   ]
  },
  {
   "cell_type": "code",
   "execution_count": 52,
   "metadata": {},
   "outputs": [
    {
     "name": "stdout",
     "output_type": "stream",
     "text": [
      "Checking for NaN values in the message column\n",
      "Number of NaN values in Message column: 698\n"
     ]
    }
   ],
   "source": [
    "print('Checking for NaN values in the message column')\n",
    "nan_count = df['Message'].isnull().sum()\n",
    "print(f'Number of NaN values in Message column: {nan_count}')"
   ]
  },
  {
   "cell_type": "code",
   "execution_count": 53,
   "metadata": {},
   "outputs": [
    {
     "name": "stdout",
     "output_type": "stream",
     "text": [
      "Dataset shape after dropping NaN values in 'Message' column: (1920, 6)\n"
     ]
    }
   ],
   "source": [
    "df = df.dropna(subset=['Message'])\n",
    "\n",
    "#print the shape of the dataset after dropping NaN values in the \"Message\" columns\n",
    "print(f\"Dataset shape after dropping NaN values in 'Message' column: {df.shape}\")"
   ]
  },
  {
   "cell_type": "code",
   "execution_count": 54,
   "metadata": {},
   "outputs": [
    {
     "data": {
      "text/html": [
       "<div>\n",
       "<style scoped>\n",
       "    .dataframe tbody tr th:only-of-type {\n",
       "        vertical-align: middle;\n",
       "    }\n",
       "\n",
       "    .dataframe tbody tr th {\n",
       "        vertical-align: top;\n",
       "    }\n",
       "\n",
       "    .dataframe thead th {\n",
       "        text-align: right;\n",
       "    }\n",
       "</style>\n",
       "<table border=\"1\" class=\"dataframe\">\n",
       "  <thead>\n",
       "    <tr style=\"text-align: right;\">\n",
       "      <th></th>\n",
       "      <th>Channel Title</th>\n",
       "      <th>Channel Username</th>\n",
       "      <th>ID</th>\n",
       "      <th>Message</th>\n",
       "      <th>Date</th>\n",
       "      <th>Media Path</th>\n",
       "    </tr>\n",
       "  </thead>\n",
       "  <tbody>\n",
       "    <tr>\n",
       "      <th>2</th>\n",
       "      <td>Fashion tera</td>\n",
       "      <td>@Fashiontera</td>\n",
       "      <td>3964</td>\n",
       "      <td>〰️〰️〰️〰️〰️ \\nCLASICO\\n🔸🔸🔸🔸🔸🔸\\nPrice  2200( No ...</td>\n",
       "      <td>2024-09-24 14:34:31+00:00</td>\n",
       "      <td>photos\\@Fashiontera_3964.jpg</td>\n",
       "    </tr>\n",
       "    <tr>\n",
       "      <th>4</th>\n",
       "      <td>Fashion tera</td>\n",
       "      <td>@Fashiontera</td>\n",
       "      <td>3962</td>\n",
       "      <td>〰️〰️〰️〰️〰️〰️〰️\\nPuma \\nMade in Vietnam \\n🔸🔸🔸🔸🔸...</td>\n",
       "      <td>2024-09-18 15:26:06+00:00</td>\n",
       "      <td>photos\\@Fashiontera_3962.jpg</td>\n",
       "    </tr>\n",
       "    <tr>\n",
       "      <th>8</th>\n",
       "      <td>Fashion tera</td>\n",
       "      <td>@Fashiontera</td>\n",
       "      <td>3950</td>\n",
       "      <td>New year Discount \\n🌼🌼🌼🌼🌼🌼🌼🌼🌼\\n〰️〰️〰️〰️〰️ \\n🔸🔸...</td>\n",
       "      <td>2024-09-08 16:08:15+00:00</td>\n",
       "      <td>photos\\@Fashiontera_3950.jpg</td>\n",
       "    </tr>\n",
       "    <tr>\n",
       "      <th>19</th>\n",
       "      <td>Fashion tera</td>\n",
       "      <td>@Fashiontera</td>\n",
       "      <td>3939</td>\n",
       "      <td>〰️〰️〰️〰️〰️ \\nSkechers \\nMade in Vietnam \\n🔸🔸🔸🔸...</td>\n",
       "      <td>2024-09-08 15:45:52+00:00</td>\n",
       "      <td>photos\\@Fashiontera_3939.jpg</td>\n",
       "    </tr>\n",
       "    <tr>\n",
       "      <th>31</th>\n",
       "      <td>Fashion tera</td>\n",
       "      <td>@Fashiontera</td>\n",
       "      <td>3915</td>\n",
       "      <td>〰️〰️〰️〰️〰️〰️〰️\\nReebok \\nMade in Vietnam \\n🔸🔸🔸...</td>\n",
       "      <td>2024-09-01 19:38:25+00:00</td>\n",
       "      <td>photos\\@Fashiontera_3915.jpg</td>\n",
       "    </tr>\n",
       "  </tbody>\n",
       "</table>\n",
       "</div>"
      ],
      "text/plain": [
       "   Channel Title Channel Username    ID  \\\n",
       "2   Fashion tera     @Fashiontera  3964   \n",
       "4   Fashion tera     @Fashiontera  3962   \n",
       "8   Fashion tera     @Fashiontera  3950   \n",
       "19  Fashion tera     @Fashiontera  3939   \n",
       "31  Fashion tera     @Fashiontera  3915   \n",
       "\n",
       "                                              Message  \\\n",
       "2   〰️〰️〰️〰️〰️ \\nCLASICO\\n🔸🔸🔸🔸🔸🔸\\nPrice  2200( No ...   \n",
       "4   〰️〰️〰️〰️〰️〰️〰️\\nPuma \\nMade in Vietnam \\n🔸🔸🔸🔸🔸...   \n",
       "8   New year Discount \\n🌼🌼🌼🌼🌼🌼🌼🌼🌼\\n〰️〰️〰️〰️〰️ \\n🔸🔸...   \n",
       "19  〰️〰️〰️〰️〰️ \\nSkechers \\nMade in Vietnam \\n🔸🔸🔸🔸...   \n",
       "31  〰️〰️〰️〰️〰️〰️〰️\\nReebok \\nMade in Vietnam \\n🔸🔸🔸...   \n",
       "\n",
       "                         Date                    Media Path  \n",
       "2   2024-09-24 14:34:31+00:00  photos\\@Fashiontera_3964.jpg  \n",
       "4   2024-09-18 15:26:06+00:00  photos\\@Fashiontera_3962.jpg  \n",
       "8   2024-09-08 16:08:15+00:00  photos\\@Fashiontera_3950.jpg  \n",
       "19  2024-09-08 15:45:52+00:00  photos\\@Fashiontera_3939.jpg  \n",
       "31  2024-09-01 19:38:25+00:00  photos\\@Fashiontera_3915.jpg  "
      ]
     },
     "execution_count": 54,
     "metadata": {},
     "output_type": "execute_result"
    }
   ],
   "source": [
    "df.head()"
   ]
  },
  {
   "cell_type": "code",
   "execution_count": 55,
   "metadata": {},
   "outputs": [
    {
     "data": {
      "text/plain": [
       "2       〰️〰️〰️〰️〰️ \\nCLASICO\\n🔸🔸🔸🔸🔸🔸\\nPrice  2200( No ...\n",
       "4       〰️〰️〰️〰️〰️〰️〰️\\nPuma \\nMade in Vietnam \\n🔸🔸🔸🔸🔸...\n",
       "8       New year Discount \\n🌼🌼🌼🌼🌼🌼🌼🌼🌼\\n〰️〰️〰️〰️〰️ \\n🔸🔸...\n",
       "19      〰️〰️〰️〰️〰️ \\nSkechers \\nMade in Vietnam \\n🔸🔸🔸🔸...\n",
       "31      〰️〰️〰️〰️〰️〰️〰️\\nReebok \\nMade in Vietnam \\n🔸🔸🔸...\n",
       "                              ...                        \n",
       "2612                                             Sold out\n",
       "2613    Nikon \\nD9 Digital Camera\\nPrice 16000\\nContac...\n",
       "2614    Vans Leather\\nMade in Vietnam\\nSize 40, 41\\nPr...\n",
       "2615    Samsung TV\\nCurved Full HD \\n55 Inch\\nPrice 36...\n",
       "2616    Rebook\\nMade in Vietnam\\nSize 41\\nPrice 1350\\n...\n",
       "Name: Message, Length: 1920, dtype: object"
      ]
     },
     "execution_count": 55,
     "metadata": {},
     "output_type": "execute_result"
    }
   ],
   "source": [
    "message_df=df['Message']\n",
    "message_df"
   ]
  },
  {
   "cell_type": "code",
   "execution_count": 56,
   "metadata": {},
   "outputs": [
    {
     "name": "stderr",
     "output_type": "stream",
     "text": [
      "C:\\Users\\elbet\\AppData\\Local\\Temp\\ipykernel_10816\\4270856608.py:11: SettingWithCopyWarning: \n",
      "A value is trying to be set on a copy of a slice from a DataFrame\n",
      "\n",
      "See the caveats in the documentation: https://pandas.pydata.org/pandas-docs/stable/user_guide/indexing.html#returning-a-view-versus-a-copy\n",
      "  message_df['cleaned_message'] = df['Message'].apply(remove_emoji).apply(remove_symbols)\n",
      "C:\\Users\\elbet\\AppData\\Local\\Temp\\ipykernel_10816\\4270856608.py:11: SettingWithCopyWarning: \n",
      "A value is trying to be set on a copy of a slice from a DataFrame\n",
      "\n",
      "See the caveats in the documentation: https://pandas.pydata.org/pandas-docs/stable/user_guide/indexing.html#returning-a-view-versus-a-copy\n",
      "  message_df['cleaned_message'] = df['Message'].apply(remove_emoji).apply(remove_symbols)\n"
     ]
    }
   ],
   "source": [
    "#function to remove emojis\n",
    "def remove_emoji(text):\n",
    "    return emoji.replace_emoji(text, replace='')\n",
    "\n",
    "# Function to remove symbols and non-alphabetic characters\n",
    "def remove_symbols(text):\n",
    "    # Replace everything except letters (including unicode letters) and spaces\n",
    "    return re.sub(r'[^A-Za-z0-9ሀ-ፐ\\s]+', '', text)\n",
    "\n",
    "#Apply the function to the 'message' column\n",
    "message_df['cleaned_message'] = df['Message'].apply(remove_emoji).apply(remove_symbols)"
   ]
  },
  {
   "cell_type": "code",
   "execution_count": 57,
   "metadata": {},
   "outputs": [],
   "source": [
    "message_df.to_csv('clean_data_csv')"
   ]
  },
  {
   "cell_type": "code",
   "execution_count": 58,
   "metadata": {},
   "outputs": [],
   "source": [
    "# Extract the messages for further processing\n",
    "tokens = message_df['cleaned_message'].tolist()"
   ]
  },
  {
   "cell_type": "code",
   "execution_count": 59,
   "metadata": {},
   "outputs": [
    {
     "data": {
      "text/plain": [
       "'Segmented Amharic Tokens:'"
      ]
     },
     "metadata": {},
     "output_type": "display_data"
    },
    {
     "data": {
      "text/plain": [
       "[['\\nCLASICO\\n\\nPrice',\n",
       "  '2200',\n",
       "  'No',\n",
       "  'gift',\n",
       "  'box\\nFree',\n",
       "  'Delivery\\nInbox',\n",
       "  'Hiwe5266\\nስልክ',\n",
       "  '251945355266\\n\\n',\n",
       "  'ፋሽን',\n",
       "  'ተራ',\n",
       "  'Fashion',\n",
       "  'Tera',\n",
       "  '\\n',\n",
       "  '\\nአድራሻ',\n",
       "  'አዲስ',\n",
       "  'አበባ',\n",
       "  'ጦር',\n",
       "  'ሀይሎች',\n",
       "  'ድሪም',\n",
       "  'ታወር',\n",
       "  '2ተኛ',\n",
       "  'ፎቅ\\nቢሮ',\n",
       "  'ቁጥር',\n",
       "  '205\\n'],\n",
       " ['\\nPuma',\n",
       "  '\\nMade',\n",
       "  'in',\n",
       "  'Vietnam',\n",
       "  '\\n\\nSize',\n",
       "  '404143\\nPrice',\n",
       "  '3600\\nFree',\n",
       "  'Delivery\\nInbox',\n",
       "  'Hiwe5266\\nስልክ',\n",
       "  '251945355266\\n\\n',\n",
       "  'ፋሽን',\n",
       "  'ተራ',\n",
       "  'Fashion',\n",
       "  'Tera',\n",
       "  '\\n',\n",
       "  '\\nአድራሻ',\n",
       "  'አዲስ',\n",
       "  'አበባ',\n",
       "  'ጦር',\n",
       "  'ሀይሎች',\n",
       "  'ድሪም',\n",
       "  'ታወር',\n",
       "  '2ተኛ',\n",
       "  'ፎቅ\\nቢሮ',\n",
       "  'ቁጥር',\n",
       "  '205\\n'],\n",
       " ['New',\n",
       "  'year',\n",
       "  'Discount',\n",
       "  '\\n\\n',\n",
       "  '\\n\\nInbox',\n",
       "  'Hiwe5266\\nስልክ',\n",
       "  '251945355266\\n\\n',\n",
       "  'ፋሽን',\n",
       "  'ተራ',\n",
       "  'Fashion',\n",
       "  'Tera',\n",
       "  '\\n',\n",
       "  '\\nአድራሻ',\n",
       "  'አዲስ',\n",
       "  'አበባ',\n",
       "  'ጦር',\n",
       "  'ሀይሎች',\n",
       "  'ድሪም',\n",
       "  'ታወር',\n",
       "  '2ተኛ',\n",
       "  'ፎቅ\\nቢሮ',\n",
       "  'ቁጥር',\n",
       "  '205\\n\\n'],\n",
       " ['\\nSkechers',\n",
       "  '\\nMade',\n",
       "  'in',\n",
       "  'Vietnam',\n",
       "  '\\n\\nSize',\n",
       "  '4243\\nPrice',\n",
       "  '3100\\nFree',\n",
       "  'Delivery\\nInbox',\n",
       "  'Hiwe5266\\nስልክ',\n",
       "  '251945355266\\n\\n',\n",
       "  'ፋሽን',\n",
       "  'ተራ',\n",
       "  'Fashion',\n",
       "  'Tera',\n",
       "  '\\n',\n",
       "  '\\nአድራሻ',\n",
       "  'አዲስ',\n",
       "  'አበባ',\n",
       "  'ጦር',\n",
       "  'ሀይሎች',\n",
       "  'ድሪም',\n",
       "  'ታወር',\n",
       "  '2ተኛ',\n",
       "  'ፎቅ\\nቢሮ',\n",
       "  'ቁጥር',\n",
       "  '205\\n'],\n",
       " ['\\nReebok',\n",
       "  '\\nMade',\n",
       "  'in',\n",
       "  'Vietnam',\n",
       "  '\\n\\nSize',\n",
       "  '404142\\nPrice',\n",
       "  '2950\\nFree',\n",
       "  'Delivery\\nInbox',\n",
       "  'Hiwe5266\\nስልክ',\n",
       "  '251945355266\\n\\n',\n",
       "  'ፋሽን',\n",
       "  'ተራ',\n",
       "  'Fashion',\n",
       "  'Tera',\n",
       "  '\\n',\n",
       "  '\\nአድራሻ',\n",
       "  'አዲስ',\n",
       "  'አበባ',\n",
       "  'ጦር',\n",
       "  'ሀይሎች',\n",
       "  'ድሪም',\n",
       "  'ታወር',\n",
       "  '2ተኛ',\n",
       "  'ፎቅ\\nቢሮ',\n",
       "  'ቁጥር',\n",
       "  '205\\n'],\n",
       " ['\\nAdidas',\n",
       "  '\\nMade',\n",
       "  'in',\n",
       "  'Vietnam',\n",
       "  '\\n\\nSize',\n",
       "  '4041\\nPrice',\n",
       "  '3400\\nFree',\n",
       "  'Delivery\\nInbox',\n",
       "  'Hiwe5266\\nስልክ',\n",
       "  '251945355266\\n\\n',\n",
       "  'ፋሽን',\n",
       "  'ተራ',\n",
       "  'Fashion',\n",
       "  'Tera',\n",
       "  '\\n',\n",
       "  '\\nአድራሻ',\n",
       "  'አዲስ',\n",
       "  'አበባ',\n",
       "  'ጦር',\n",
       "  'ሀይሎች',\n",
       "  'ድሪም',\n",
       "  'ታወር',\n",
       "  '2ተኛ',\n",
       "  'ፎቅ\\nቢሮ',\n",
       "  'ቁጥር',\n",
       "  '205\\n'],\n",
       " ['\\nMen',\n",
       "  'Jacket',\n",
       "  '\\nSize',\n",
       "  'L',\n",
       "  'Xl',\n",
       "  'XXL\\nPrice',\n",
       "  '3200\\nInbox',\n",
       "  'Hiwe5266\\nስልክ',\n",
       "  '251945355266\\n\\n',\n",
       "  'ፋሽን',\n",
       "  'ተራ',\n",
       "  'Fashion',\n",
       "  'Tera',\n",
       "  '\\n',\n",
       "  '\\nአድራሻ',\n",
       "  'አዲስ',\n",
       "  'አበባ',\n",
       "  'ጦር',\n",
       "  'ሀይሎች',\n",
       "  'ድሪም',\n",
       "  'ታወር',\n",
       "  '2ተኛ',\n",
       "  'ፎቅ\\nቢሮ',\n",
       "  'ቁጥር',\n",
       "  '205\\n'],\n",
       " ['\\nBalenciaga\\nMade',\n",
       "  'in',\n",
       "  'Vietnam',\n",
       "  '\\n\\nSize',\n",
       "  '3637383940\\nPrice',\n",
       "  '2900\\nFree',\n",
       "  'Delivery\\nInbox',\n",
       "  'Hiwe5266\\nስልክ',\n",
       "  '251945355266\\n\\n',\n",
       "  'ፋሽን',\n",
       "  'ተራ',\n",
       "  'Fashion',\n",
       "  'Tera',\n",
       "  '\\n',\n",
       "  '\\nአድራሻ',\n",
       "  'አዲስ',\n",
       "  'አበባ',\n",
       "  'ጦር',\n",
       "  'ሀይሎች',\n",
       "  'ድሪም',\n",
       "  'ታወር',\n",
       "  '2ተኛ',\n",
       "  'ፎቅ\\nቢሮ',\n",
       "  'ቁጥር',\n",
       "  '205\\n'],\n",
       " ['\\nFashion',\n",
       "  'Shose',\n",
       "  '\\n\\nSize',\n",
       "  '4041\\nPrice',\n",
       "  '3200\\nFree',\n",
       "  'Delivery\\nInbox',\n",
       "  'Hiwe5266\\nስልክ',\n",
       "  '251945355266\\n\\n',\n",
       "  'ፋሽን',\n",
       "  'ተራ',\n",
       "  'Fashion',\n",
       "  'Tera',\n",
       "  '\\n',\n",
       "  '\\nአድራሻ',\n",
       "  'አዲስ',\n",
       "  'አበባ',\n",
       "  'ጦር',\n",
       "  'ሀይሎች',\n",
       "  'ድሪም',\n",
       "  'ታወር',\n",
       "  '2ተኛ',\n",
       "  'ፎቅ\\nቢሮ',\n",
       "  'ቁጥር',\n",
       "  '205\\n'],\n",
       " ['\\nCASENT',\n",
       "  '\\n\\nPrice',\n",
       "  '2500',\n",
       "  'No',\n",
       "  'gift',\n",
       "  'box\\nFree',\n",
       "  'Delivery\\nInbox',\n",
       "  'Hiwe5266\\nስልክ',\n",
       "  '251945355266\\n\\n',\n",
       "  'ፋሽን',\n",
       "  'ተራ',\n",
       "  'Fashion',\n",
       "  'Tera',\n",
       "  '\\n',\n",
       "  '\\nአድራሻ',\n",
       "  'አዲስ',\n",
       "  'አበባ',\n",
       "  'ጦር',\n",
       "  'ሀይሎች',\n",
       "  'ድሪም',\n",
       "  'ታወር',\n",
       "  '2ተኛ',\n",
       "  'ፎቅ\\nቢሮ',\n",
       "  'ቁጥር',\n",
       "  '205\\n']]"
      ]
     },
     "metadata": {},
     "output_type": "display_data"
    }
   ],
   "source": [
    "# Initialize the Amharic segmenter\n",
    "sent_punct = []\n",
    "word_punct = []\n",
    "segmenter = AmharicSegmenter(sent_punct, word_punct)\n",
    "\n",
    "# Function to check if the word contains Amharic characters\n",
    "def contains_amharic(word):\n",
    "    # Check if any character in the word is within the Amharic Unicode block (U+1200 to U+137F)\n",
    "    return any(0x1200 <= ord(char) <= 0x137F for char in word)\n",
    "\n",
    "# Function to segment tokens for Amharic\n",
    "# Function to segment Amharic text (with type checking)\n",
    "def segment_amharic_text(segmenter, tokens):\n",
    "    segmented_tokens = []\n",
    "    for word in tokens:\n",
    "        if isinstance(word, str):  # Ensure the token is a string\n",
    "            if contains_amharic(word):\n",
    "                tokenized_word = segmenter.amharic_tokenizer(word)\n",
    "            else:\n",
    "                tokenized_word = word  # Leave non-Amharic words as is\n",
    "            segmented_tokens.append(tokenized_word)\n",
    "    return segmented_tokens\n",
    "\n",
    "# Segment Amharic tokens\n",
    "segmented_tokens = segment_amharic_text(segmenter, tokens)\n",
    "\n",
    "# Display the first 20 segmented results\n",
    "display(\"Segmented Amharic Tokens:\", segmented_tokens[:10])"
   ]
  },
  {
   "cell_type": "code",
   "execution_count": 60,
   "metadata": {},
   "outputs": [],
   "source": [
    "# Save the final tokens to a CSV file\n",
    "output_df = pd.DataFrame({'Token': segmented_tokens})\n",
    "output_df.to_csv('C:/Users/elbet/OneDrive/Desktop/Ten/week5/Telegram-based-e-commerce/final_telegram_tokens.csv', index=False)"
   ]
  },
  {
   "cell_type": "code",
   "execution_count": 61,
   "metadata": {},
   "outputs": [
    {
     "name": "stdout",
     "output_type": "stream",
     "text": [
      "Display Results from Index 50 to 80:\n"
     ]
    },
    {
     "data": {
      "text/plain": [
       "\"['\\\\nSpeed', 'Couple', 'Watch', '\\\\n\\\\nPrice', '3800\\\\nFree', 'Delivery\\\\nInbox', 'Hiwe5266\\\\nስልክ', '251945355266\\\\n\\\\n', 'ፋሽን', 'ተራ', 'Fashion', 'Tera', '\\\\n', '\\\\nአድራሻ', 'አዲስ', 'አበባ', 'ጦር', 'ሀይሎች', 'ድሪም', 'ታወር', '2ተኛ', 'ፎቅ\\\\nቢሮ', 'ቁጥር', '205\\\\n']\""
      ]
     },
     "metadata": {},
     "output_type": "display_data"
    },
    {
     "data": {
      "text/plain": [
       "\"['\\\\nNike', 'SB\\\\nMade', 'in', 'Vietnam', '\\\\n\\\\nSize', '404243\\\\nPrice', '2950\\\\nFree', 'Delivery\\\\nInbox', 'Hiwe5266\\\\nስልክ', '251945355266\\\\n\\\\n', 'ፋሽን', 'ተራ', 'Fashion', 'Tera', '\\\\n', '\\\\nአድራሻ', 'አዲስ', 'አበባ', 'ጦር', 'ሀይሎች', 'ድሪም', 'ታወር', '2ተኛ', 'ፎቅ\\\\nቢሮ', 'ቁጥር', '205\\\\n']\""
      ]
     },
     "metadata": {},
     "output_type": "display_data"
    },
    {
     "data": {
      "text/plain": [
       "\"['\\\\nCHANEL', 'ROLEX', '\\\\n\\\\nPrice', '2000', 'No', 'gift', 'box\\\\nFree', 'Delivery\\\\nInbox', 'Hiwe5266\\\\nስልክ', '251945355266\\\\n\\\\n', 'ፋሽን', 'ተራ', 'Fashion', 'Tera', '\\\\n', '\\\\nአድራሻ', 'አዲስ', 'አበባ', 'ጦር', 'ሀይሎች', 'ድሪም', 'ታወር', '2ተኛ', 'ፎቅ\\\\nቢሮ', 'ቁጥር', '205\\\\n']\""
      ]
     },
     "metadata": {},
     "output_type": "display_data"
    },
    {
     "data": {
      "text/plain": [
       "\"['\\\\nSkechers', '\\\\nMade', 'in', 'Vietnam', '\\\\n\\\\nSize', '40414243\\\\nPrice', '2800\\\\nFree', 'Delivery\\\\nInbox', 'Hiwe5266\\\\nስልክ', '251945355266\\\\n\\\\n', 'ፋሽን', 'ተራ', 'Fashion', 'Tera', '\\\\n', '\\\\nአድራሻ', 'አዲስ', 'አበባ', 'ጦር', 'ሀይሎች', 'ድሪም', 'ታወር', '2ተኛ', 'ፎቅ\\\\nቢሮ', 'ቁጥር', '205\\\\n']\""
      ]
     },
     "metadata": {},
     "output_type": "display_data"
    },
    {
     "data": {
      "text/plain": [
       "\"['\\\\nReebok', '\\\\nMade', 'in', 'Vietnam', '\\\\n\\\\nSize', '40414243\\\\nPrice', '2950\\\\nFree', 'Delivery\\\\nInbox', 'Hiwe5266\\\\nስልክ', '251945355266\\\\n\\\\n', 'ፋሽን', 'ተራ', 'Fashion', 'Tera', '\\\\n', '\\\\nአድራሻ', 'አዲስ', 'አበባ', 'ጦር', 'ሀይሎች', 'ድሪም', 'ታወር', '2ተኛ', 'ፎቅ\\\\nቢሮ', 'ቁጥር', '205\\\\n']\""
      ]
     },
     "metadata": {},
     "output_type": "display_data"
    },
    {
     "data": {
      "text/plain": [
       "\"['\\\\nAll', 'star', 'Leather', '\\\\nMade', 'in', 'Vietnam', '\\\\n\\\\nSize', '414243\\\\nPrice', '2950\\\\nFree', 'Delivery\\\\nInbox', 'Hiwe5266\\\\nስልክ', '251945355266\\\\n\\\\n', 'ፋሽን', 'ተራ', 'Fashion', 'Tera', '\\\\n', '\\\\nአድራሻ', 'አዲስ', 'አበባ', 'ጦር', 'ሀይሎች', 'ድሪም', 'ታወር', '2ተኛ', 'ፎቅ\\\\nቢሮ', 'ቁጥር', '205\\\\n']\""
      ]
     },
     "metadata": {},
     "output_type": "display_data"
    },
    {
     "data": {
      "text/plain": [
       "\"['\\\\nAir', 'force', '1', 'High', 'Quality', '\\\\nMade', 'in', 'Vietnam', '\\\\n\\\\nSize', '414243\\\\nPrice', '3700\\\\nFree', 'Delivery\\\\nInbox', 'Hiwe5266\\\\nስልክ', '251945355266\\\\n\\\\n', 'ፋሽን', 'ተራ', 'Fashion', 'Tera', '\\\\n', '\\\\nአድራሻ', 'አዲስ', 'አበባ', 'ጦር', 'ሀይሎች', 'ድሪም', 'ታወር', '2ተኛ', 'ፎቅ\\\\nቢሮ', 'ቁጥር', '205\\\\n']\""
      ]
     },
     "metadata": {},
     "output_type": "display_data"
    },
    {
     "data": {
      "text/plain": [
       "\"['\\\\nRolex', 'Men', 'Watch', '\\\\n\\\\nPrice', '2200', 'No', 'gift', 'box\\\\nFree', 'Delivery\\\\nInbox', 'Hiwe5266\\\\nስልክ', '251945355266\\\\n\\\\n', 'ፋሽን', 'ተራ', 'Fashion', 'Tera', '\\\\n', '\\\\nአድራሻ', 'አዲስ', 'አበባ', 'ጦር', 'ሀይሎች', 'ድሪም', 'ታወር', '2ተኛ', 'ፎቅ\\\\nቢሮ', 'ቁጥር', '205\\\\n']\""
      ]
     },
     "metadata": {},
     "output_type": "display_data"
    },
    {
     "data": {
      "text/plain": [
       "\"['\\\\nNB\\\\n\\\\nSize', '4142\\\\nPrice', '2500\\\\nFree', 'Delivery\\\\nInbox', 'Hiwe5266\\\\nስልክ', '251945355266\\\\n\\\\n', 'ፋሽን', 'ተራ', 'Fashion', 'Tera', '\\\\n', '\\\\nአድራሻ', 'አዲስ', 'አበባ', 'ጦር', 'ሀይሎች', 'ድሪም', 'ታወር', '2ተኛ', 'ፎቅ\\\\nቢሮ', 'ቁጥር', '205\\\\n']\""
      ]
     },
     "metadata": {},
     "output_type": "display_data"
    },
    {
     "data": {
      "text/plain": [
       "\"['\\\\nOld', 'school', 'Adidas', '\\\\nMade', 'in', 'Vietnam', '\\\\n\\\\nSize', '404243\\\\nPrice', '2900\\\\nFree', 'Delivery\\\\nInbox', 'Hiwe5266\\\\nስልክ', '251945355266\\\\n\\\\n', 'ፋሽን', 'ተራ', 'Fashion', 'Tera', '\\\\n', '\\\\nአድራሻ', 'አዲስ', 'አበባ', 'ጦር', 'ሀይሎች', 'ድሪም', 'ታወር', '2ተኛ', 'ፎቅ\\\\nቢሮ', 'ቁጥር', '205\\\\n']\""
      ]
     },
     "metadata": {},
     "output_type": "display_data"
    },
    {
     "data": {
      "text/plain": [
       "\"['\\\\nFENDI', '\\\\n\\\\nPrice', '2000', 'No', 'gift', 'box\\\\nFree', 'Delivery\\\\nInbox', 'Hiwe5266\\\\nስልክ', '251945355266\\\\n\\\\n', 'ፋሽን', 'ተራ', 'Fashion', 'Tera', '\\\\n', '\\\\nአድራሻ', 'አዲስ', 'አበባ', 'ጦር', 'ሀይሎች', 'ድሪም', 'ታወር', '2ተኛ', 'ፎቅ\\\\nቢሮ', 'ቁጥር', '205\\\\n']\""
      ]
     },
     "metadata": {},
     "output_type": "display_data"
    },
    {
     "data": {
      "text/plain": [
       "\"['\\\\nAdidas', '\\\\nMade', 'in', 'Vietnam', '\\\\n\\\\nSize', '414243\\\\nPrice', '3200\\\\nFree', 'Delivery\\\\nInbox', 'Hiwe5266\\\\nስልክ', '251945355266\\\\n\\\\n', 'ፋሽን', 'ተራ', 'Fashion', 'Tera', '\\\\n', '\\\\nአድራሻ', 'አዲስ', 'አበባ', 'ጦር', 'ሀይሎች', 'ድሪም', 'ታወር', '2ተኛ', 'ፎቅ\\\\nቢሮ', 'ቁጥር', '205\\\\n']\""
      ]
     },
     "metadata": {},
     "output_type": "display_data"
    },
    {
     "data": {
      "text/plain": [
       "\"['\\\\nRolex', 'Men', 'Watch', '\\\\n\\\\nPrice', '2200', 'No', 'gift', 'box\\\\nFree', 'Delivery\\\\nInbox', 'Hiwe5266\\\\nስልክ', '251945355266\\\\n\\\\n', 'ፋሽን', 'ተራ', 'Fashion', 'Tera', '\\\\n', '\\\\nአድራሻ', 'አዲስ', 'አበባ', 'ጦር', 'ሀይሎች', 'ድሪም', 'ታወር', '2ተኛ', 'ፎቅ\\\\nቢሮ', 'ቁጥር', '205\\\\n']\""
      ]
     },
     "metadata": {},
     "output_type": "display_data"
    },
    {
     "data": {
      "text/plain": [
       "\"['\\\\nAirforce', '\\\\nMade', 'in', 'Vietnam', '\\\\n\\\\nSize', '36373839\\\\nPrice', '2000\\\\nFree', 'Delivery\\\\nInbox', 'Hiwe5266\\\\nስልክ', '251945355266\\\\n\\\\n', 'ፋሽን', 'ተራ', 'Fashion', 'Tera', '\\\\n', '\\\\nአድራሻ', 'አዲስ', 'አበባ', 'ጦር', 'ሀይሎች', 'ድሪም', 'ታወር', '2ተኛ', 'ፎቅ\\\\nቢሮ', 'ቁጥር', '205\\\\n']\""
      ]
     },
     "metadata": {},
     "output_type": "display_data"
    },
    {
     "data": {
      "text/plain": [
       "\"['\\\\nAirforce', '\\\\nMade', 'in', 'Vietnam', '\\\\n\\\\nSize', '4041424345\\\\nPrice', '2100\\\\nFree', 'Delivery\\\\nInbox', 'Hiwe5266\\\\nስልክ', '251945355266\\\\n\\\\n', 'ፋሽን', 'ተራ', 'Fashion', 'Tera', '\\\\n', '\\\\nአድራሻ', 'አዲስ', 'አበባ', 'ጦር', 'ሀይሎች', 'ድሪም', 'ታወር', '2ተኛ', 'ፎቅ\\\\nቢሮ', 'ቁጥር', '205\\\\n']\""
      ]
     },
     "metadata": {},
     "output_type": "display_data"
    },
    {
     "data": {
      "text/plain": [
       "\"['\\\\nAdidas', '\\\\n\\\\nSize', 'Xl', '\\\\nPrice', '3950\\\\nNo', 'Delivery\\\\nInbox', 'Hiwe5266\\\\nስልክ', '251945355266\\\\n\\\\n', 'ፋሽን', 'ተራ', 'Fashion', 'Tera', '\\\\n', '\\\\nአድራሻ', 'አዲስ', 'አበባ', 'ጦር', 'ሀይሎች', 'ድሪም', 'ታወር', '2ተኛ', 'ፎቅ\\\\nቢሮ', 'ቁጥር', '205\\\\n']\""
      ]
     },
     "metadata": {},
     "output_type": "display_data"
    },
    {
     "data": {
      "text/plain": [
       "\"['\\\\nAdidas', '\\\\n\\\\nSize', '3xl\\\\nPrice', '3950\\\\nNo', 'Delivery\\\\nInbox', 'Hiwe5266\\\\nስልክ', '251945355266\\\\n\\\\n', 'ፋሽን', 'ተራ', 'Fashion', 'Tera', '\\\\n', '\\\\nአድራሻ', 'አዲስ', 'አበባ', 'ጦር', 'ሀይሎች', 'ድሪም', 'ታወር', '2ተኛ', 'ፎቅ\\\\nቢሮ', 'ቁጥር', '205\\\\n']\""
      ]
     },
     "metadata": {},
     "output_type": "display_data"
    },
    {
     "data": {
      "text/plain": [
       "\"['\\\\nNike', 'SB\\\\nMade', 'in', 'Vietnam', '\\\\n\\\\nSize', '4243\\\\nPrice', '2950\\\\nFree', 'Delivery\\\\nInbox', 'Hiwe5266\\\\nስልክ', '251945355266\\\\n\\\\n', 'ፋሽን', 'ተራ', 'Fashion', 'Tera', '\\\\n', '\\\\nአድራሻ', 'አዲስ', 'አበባ', 'ጦር', 'ሀይሎች', 'ድሪም', 'ታወር', '2ተኛ', 'ፎቅ\\\\nቢሮ', 'ቁጥር', '205\\\\n']\""
      ]
     },
     "metadata": {},
     "output_type": "display_data"
    },
    {
     "data": {
      "text/plain": [
       "\"['\\\\nAir', 'force', 'Supreme', '\\\\nMade', 'in', 'Vietnam', '\\\\n\\\\nSize', '4344\\\\nPrice', '4500\\\\nFree', 'Delivery\\\\nInbox', 'Hiwe5266\\\\nስልክ', '251945355266\\\\n\\\\n', 'ፋሽን', 'ተራ', 'Fashion', 'Tera', '\\\\n', '\\\\nአድራሻ', 'አዲስ', 'አበባ', 'ጦር', 'ሀይሎች', 'ድሪም', 'ታወር', '2ተኛ', 'ፎቅ\\\\nቢሮ', 'ቁጥር', '205\\\\n']\""
      ]
     },
     "metadata": {},
     "output_type": "display_data"
    },
    {
     "data": {
      "text/plain": [
       "\"['\\\\nOld', 'school', 'Adidas', '\\\\nMade', 'in', 'Vietnam', '\\\\n\\\\nSize', '404243\\\\nPrice', '2900\\\\nFree', 'Delivery\\\\nInbox', 'Hiwe5266\\\\nስልክ', '251945355266\\\\n\\\\n', 'ፋሽን', 'ተራ', 'Fashion', 'Tera', '\\\\n', '\\\\nአድራሻ', 'አዲስ', 'አበባ', 'ጦር', 'ሀይሎች', 'ድሪም', 'ታወር', '2ተኛ', 'ፎቅ\\\\nቢሮ', 'ቁጥር', '205\\\\n']\""
      ]
     },
     "metadata": {},
     "output_type": "display_data"
    },
    {
     "data": {
      "text/plain": [
       "\"['\\\\nAir', 'force', 'XXV\\\\nMade', 'in', 'Vietnam', '\\\\n\\\\nSize', '414243\\\\nPrice', '4800\\\\nFree', 'Delivery\\\\nInbox', 'Hiwe5266\\\\nስልክ', '251945355266\\\\n\\\\n', 'ፋሽን', 'ተራ', 'Fashion', 'Tera', '\\\\n', '\\\\nአድራሻ', 'አዲስ', 'አበባ', 'ጦር', 'ሀይሎች', 'ድሪም', 'ታወር', '2ተኛ', 'ፎቅ\\\\nቢሮ', 'ቁጥር', '205\\\\n']\""
      ]
     },
     "metadata": {},
     "output_type": "display_data"
    },
    {
     "data": {
      "text/plain": [
       "\"['\\\\nDiscount', '\\\\n\\\\nCHEKICH\\\\nSize', '4243\\\\nPrices', '3500\\\\nMade', 'in', 'Turkey\\\\nFree', 'Delivery\\\\nInbox', 'Hiwe5266\\\\nስልክ', '251945355266\\\\n\\\\n', 'ፋሽን', 'ተራ', 'Fashion', 'Tera\\\\n', '\\\\nአድራሻ', 'አዲስ', 'አበባ', 'ጦር', 'ሀይሎች', 'ድሪም', 'ታወር', '2ተኛ', 'ፎቅ\\\\nቢሮ', 'ቁጥር', '205\\\\n']\""
      ]
     },
     "metadata": {},
     "output_type": "display_data"
    },
    {
     "data": {
      "text/plain": [
       "\"['\\\\nSPEED', 'COUPLE', 'WATCH', '\\\\nPrices', '3800\\\\nFree', 'Delivery\\\\nInbox', 'Hiwe5266\\\\nስልክ', '251945355266\\\\n\\\\n', 'ፋሽን', 'ተራ', 'Fashion', 'Tera\\\\n', '\\\\nአድራሻ', 'አዲስ', 'አበባ', 'ጦር', 'ሀይሎች', 'ድሪም', 'ታወር', '2ተኛ', 'ፎቅ\\\\nቢሮ', 'ቁጥር', '205\\\\n\\\\n']\""
      ]
     },
     "metadata": {},
     "output_type": "display_data"
    },
    {
     "data": {
      "text/plain": [
       "\"['\\\\nBRAND', 'Watches\\\\nPrices', '2200\\\\nFree', 'Delivery\\\\nInbox', 'Hiwe5266\\\\nስልክ', '251945355266\\\\n\\\\n', 'ፋሽን', 'ተራ', 'Fashion', 'Tera\\\\n', '\\\\nአድራሻ', 'አዲስ', 'አበባ', 'ጦር', 'ሀይሎች', 'ድሪም', 'ታወር', '2ተኛ', 'ፎቅ\\\\nቢሮ', 'ቁጥር', '205\\\\n\\\\n']\""
      ]
     },
     "metadata": {},
     "output_type": "display_data"
    },
    {
     "data": {
      "text/plain": [
       "\"['\\\\nChristmas', 'Discount', '\\\\nAir', 'Force', '\\\\nMade', 'in', 'Vietnam', '\\\\nSize', '434445\\\\nPrice', '1800\\\\nFree', 'Delivery\\\\nInbox', 'Hiwe5266\\\\nስልክ', '251945355266\\\\n\\\\n', 'ፋሽን', 'ተራ', 'Fashion', 'Tera\\\\n', '\\\\nአድራሻ', 'አዲስ', 'አበባ', 'ጦር', 'ሀይሎች', 'ድሪም', 'ታወር', '2ተኛ', 'ፎቅ\\\\nቢሮ', 'ቁጥር', '205\\\\n\\\\n']\""
      ]
     },
     "metadata": {},
     "output_type": "display_data"
    },
    {
     "data": {
      "text/plain": [
       "\"['\\\\n', 'Air', 'Jordan', '1\\\\xa0', 'Low', 'Travis', 'scott\\\\nMade', 'in', 'Vietnam', '\\\\nSize', '404243\\\\nPrice', '2600\\\\nFree', 'Delivery\\\\nInbox', 'Hiwe5266\\\\nስልክ', '251945355266\\\\n\\\\n', 'ፋሽን', 'ተራ', 'Fashion', 'Tera\\\\n', '\\\\nአድራሻ', 'አዲስ', 'አበባ', 'ጦር', 'ሀይሎች', 'ድሪም', 'ታወር', '2ተኛ', 'ፎቅ\\\\nቢሮ', 'ቁጥር', '205\\\\n']\""
      ]
     },
     "metadata": {},
     "output_type": "display_data"
    },
    {
     "data": {
      "text/plain": [
       "\"['\\\\nBRAND', 'Watches\\\\nFree', 'Delivery\\\\nInbox', 'Hiwe5266\\\\nስልክ', '251945355266\\\\n\\\\n', 'ፋሽን', 'ተራ', 'Fashion', 'Tera\\\\n', '\\\\nአድራሻ', 'አዲስ', 'አበባ', 'ጦር', 'ሀይሎች', 'ድሪም', 'ታወር', '2ተኛ', 'ፎቅ\\\\nቢሮ', 'ቁጥር', '205\\\\n\\\\n']\""
      ]
     },
     "metadata": {},
     "output_type": "display_data"
    },
    {
     "data": {
      "text/plain": [
       "\"['\\\\n', 'Air', 'Jordan', '4', 'LV\\\\nMade', 'in', 'Vietnam', '\\\\nPrice', '32003500\\\\nFree', 'Delivery\\\\nInbox', 'Hiwe5266\\\\nስልክ', '251945355266\\\\n\\\\n', 'ፋሽን', 'ተራ', 'Fashion', 'Tera\\\\n', '\\\\nአድራሻ', 'አዲስ', 'አበባ', 'ጦር', 'ሀይሎች', 'ድሪም', 'ታወር', '2ተኛ', 'ፎቅ\\\\nቢሮ', 'ቁጥር', '205\\\\n']\""
      ]
     },
     "metadata": {},
     "output_type": "display_data"
    },
    {
     "data": {
      "text/plain": [
       "\"['Air', 'Jordan', '\\\\nMade', 'in', 'Vietnam', '\\\\nSize', '40424344\\\\nPrice', '2300\\\\nFree', 'Delivery\\\\nInbox', 'Hiwe5266\\\\nስልክ', '251945355266\\\\n\\\\n', 'ፋሽን', 'ተራ', 'Fashion', 'Tera\\\\n', '\\\\nአድራሻ', 'አዲስ', 'አበባ', 'ጦር', 'ሀይሎች', 'ድሪም', 'ታወር', '2ተኛ', 'ፎቅ\\\\nቢሮ', 'ቁጥር', '205\\\\n']\""
      ]
     },
     "metadata": {},
     "output_type": "display_data"
    },
    {
     "data": {
      "text/plain": [
       "\"['Air', 'Jordan', '\\\\nMade', 'in', 'Vietnam', '\\\\nSize', '40424344\\\\nPrice', '2300\\\\nFree', 'Delivery\\\\nInbox', 'Hiwe5266\\\\nስልክ', '251945355266\\\\n\\\\n', 'ፋሽን', 'ተራ', 'Fashion', 'Tera\\\\n', '\\\\nአድራሻ', 'አዲስ', 'አበባ', 'ጦር', 'ሀይሎች', 'ድሪም', 'ታወር', '2ተኛ', 'ፎቅ\\\\nቢሮ', 'ቁጥር', '205\\\\n']\""
      ]
     },
     "metadata": {},
     "output_type": "display_data"
    }
   ],
   "source": [
    "# Display tokens from index 50 to 80\n",
    "print(\"Display Results from Index 50 to 80:\")\n",
    "for token in segmented_tokens[50:80]:\n",
    "    display(f\"{token}\")"
   ]
  },
  {
   "cell_type": "code",
   "execution_count": 62,
   "metadata": {},
   "outputs": [],
   "source": [
    "# Convert all tokens to strings before writing to the file\n",
    "tokens = [str(token) for token in tokens]\n",
    "\n",
    "# Write the tokens to a temporary text file for SentencePiece training\n",
    "with open('temp_text.txt', 'w', encoding='utf-8') as f:\n",
    "    f.write(\"\\n\".join(tokens))\n"
   ]
  }
 ],
 "metadata": {
  "kernelspec": {
   "display_name": "condaenv",
   "language": "python",
   "name": "python3"
  },
  "language_info": {
   "codemirror_mode": {
    "name": "ipython",
    "version": 3
   },
   "file_extension": ".py",
   "mimetype": "text/x-python",
   "name": "python",
   "nbconvert_exporter": "python",
   "pygments_lexer": "ipython3",
   "version": "3.9.15"
  }
 },
 "nbformat": 4,
 "nbformat_minor": 2
}
